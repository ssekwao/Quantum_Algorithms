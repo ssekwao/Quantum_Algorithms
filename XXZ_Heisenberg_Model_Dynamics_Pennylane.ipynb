{
 "cells": [
  {
   "cell_type": "markdown",
   "metadata": {},
   "source": [
    "# XXZ Heisenberg Model \n",
    "\n",
    "The hamiltonian for the 1D XXZ Heseinberg model is given by \n",
    "\\begin{equation}\n",
    "\\mathcal{H} = J\\sum_{i=1}^{N}\\big\\{S_i^xS_{i+1}^x + S_i^yS_{i+1}^y + \\Delta S_i^zS_{i+1}^z\\big\\}\n",
    "\\end{equation}\n",
    "\n",
    "where $J$ and $\\Delta$ are coupling parameters and $S^{x,y,z}$ are spin $1/2$ operators <a name=\"ref-1\"/>[(Barmettler, 2010)](#cite-Barmettler2010). The initial Neel state of the system $\\left| \\Psi (0) \\right\\rangle$ evolves into the final state $\\left| \\Psi (t) \\right\\rangle$ according to \n",
    "\\begin{equation}\n",
    "\\left| \\Psi (t) \\right\\rangle = e^{-iHt/\\hbar}\\left| \\Psi (0) \\right\\rangle\n",
    "\\end{equation}\n",
    "\n",
    "In this example, the Trotter decomposition <a name=\"ref-2\"/>[(Nielsen and Chuang, 2010)](#cite-MikeIke) is used to approximate the wavefunction $\\left| \\Psi (t) \\right\\rangle$ and the magnetization $m(t) = \\frac{1}{N}\\sum_{i=1}^{N}{(-1)}^i \\left\\langle \\sigma^z (t) \\right\\rangle$ is then calculated. This problem is also discussed in the review by Bassman et. al <a name=\"ref-3\"/>[(Bassman, 2021)](#cite-Bassman). Implementation using __[Pennylane](https://pennylane.ai/)__."
   ]
  },
  {
   "cell_type": "code",
   "execution_count": 2,
   "metadata": {},
   "outputs": [],
   "source": [
    "import pennylane as qml\n",
    "from pennylane import numpy as np #Always import numpy from pennylane\n",
    "import matplotlib.pyplot as plt"
   ]
  },
  {
   "cell_type": "markdown",
   "metadata": {},
   "source": [
    "The 2 cubit operator $e^{-i\\theta \\sigma_z \\otimes \\sigma_z}$ is given by\n",
    "\n",
    "\\begin{equation}\n",
    "e^{-i\\theta \\sigma_z \\otimes \\sigma_z} = CNOT (I\\otimes R_z(2\\theta)) CNOT \n",
    "\\end{equation}\n",
    "\n",
    "and the operators $e^{-i\\theta \\sigma_x \\otimes \\sigma_x}$, and $e^{-i\\theta \\sigma_y \\otimes \\sigma_y}$ in their diagonal form are given by \n",
    "\n",
    "\\begin{equation}\n",
    "e^{-i\\theta \\sigma_x \\otimes \\sigma_x} = (H \\otimes H) CNOT (I\\otimes R_z(2\\theta)) CNOT (H \\otimes H) \n",
    "\\end{equation}\n",
    "\n",
    "\\begin{equation}\n",
    "e^{-i\\theta \\sigma_y \\otimes \\sigma_y} = (R_x(\\pi/2) \\otimes R_x(\\pi/2) CNOT (I\\otimes R_z(2\\theta)) CNOT (R_x(-\\pi/2) \\otimes R_x(-\\pi/2)\n",
    "\\end{equation}\n",
    "\n",
    "where $I$ is the identity operator, $H$ is the Hadamard operator, $CNOT$ is the control-NOT operator, and $R_{x,y,z}$ are rotation operators <a name=\"ref-4\"/>[(Nielsen and Chuang, 2010)](#cite-MikeIke).\n"
   ]
  },
  {
   "cell_type": "code",
   "execution_count": 3,
   "metadata": {},
   "outputs": [
    {
     "name": "stdout",
     "output_type": "stream",
     "text": [
      "-1.0\n"
     ]
    }
   ],
   "source": [
    "N = 7 #Number of spin sites\n",
    "dt = 0.04\n",
    "hbar = 1.0\n",
    "\n",
    "#Construct a QNode\n",
    "#Initialize device\n",
    "qcdev = qml.device(\"default.qubit\", wires=N)\n",
    "@qml.qnode(qcdev)\n",
    "def Circuit(t,dlt,Wires):\n",
    "    \n",
    "    #Initial Neel state\n",
    "    for i in range(1,N,2):\n",
    "        qml.PauliX(i)\n",
    "    \n",
    "    #Trotter decomposition\n",
    "    #Apply unitary gates\n",
    "    n = int(t/dt)\n",
    "    for i in range(n):\n",
    "        \n",
    "        #Hx terms\n",
    "        for j in range(N-1):\n",
    "            qml.Hadamard(j)\n",
    "            qml.Hadamard(j+1)\n",
    "            qml.CNOT(wires=[j,j+1])\n",
    "            qml.RZ((2.0*dt/hbar), wires=j+1)\n",
    "            qml.CNOT(wires=[j,j+1])\n",
    "            qml.Hadamard(j)\n",
    "            qml.Hadamard(j+1)\n",
    "                        \n",
    "        #Hy terms\n",
    "        for j in range(N-1):\n",
    "            qml.RX(-np.pi/2, wires=j)\n",
    "            qml.RX(-np.pi/2, wires=j+1)\n",
    "            qml.CNOT(wires=[j,j+1])\n",
    "            qml.RZ((2.0*dt/hbar), wires=j+1)\n",
    "            qml.CNOT(wires=[j,j+1])\n",
    "            qml.RX(np.pi/2, wires=j)\n",
    "            qml.RX(np.pi/2, wires=j+1)\n",
    "        \n",
    "        #Hz terms\n",
    "        for j in range(N-1):\n",
    "            qml.CNOT(wires=[j,j+1])\n",
    "            qml.RZ((2.0*dlt*dt/hbar), wires=j+1)\n",
    "            qml.CNOT(wires=[j,j+1])\n",
    "            \n",
    "    #Expected value\n",
    "    indx = Wires[0]\n",
    "    return qml.expval(qml.PauliZ(indx))\n",
    "\n",
    "wires = [3]\n",
    "print(Circuit(0.0,0.2,Wires=wires))    "
   ]
  },
  {
   "cell_type": "code",
   "execution_count": 4,
   "metadata": {},
   "outputs": [
    {
     "name": "stdout",
     "output_type": "stream",
     "text": [
      "0.21704485214302927\n"
     ]
    }
   ],
   "source": [
    "#Magnetization function\n",
    "#Inputs: times t, and delta parameter dlt\n",
    "def Mgz(t,dlt):\n",
    "    \n",
    "    mgz = 0.0\n",
    "    for i in range(N):\n",
    "        wrs = [i]\n",
    "        mgz += ((-1.0)**i)*Circuit(t,dlt,Wires=wrs)\n",
    "        \n",
    "    return mgz/N\n",
    "\n",
    "print(Mgz(1.0,0.0))"
   ]
  },
  {
   "cell_type": "code",
   "execution_count": 5,
   "metadata": {},
   "outputs": [],
   "source": [
    "DLTs = [0.0,0.2,4.0] #deltas\n",
    "nd = len(DLTs)\n",
    "Nt = 100 #number of times steps\n",
    "MT = np.zeros((Nt,nd))\n",
    "ts = dt*np.arange(Nt) #times steps\n",
    "\n",
    "for i in range(nd):\n",
    "    for j in range(Nt):\n",
    "        #print('i= %d, j = %d'%(i,j))\n",
    "        MT[j,i] += Mgz(ts[j],DLTs[i])\n",
    "    "
   ]
  },
  {
   "cell_type": "code",
   "execution_count": 6,
   "metadata": {},
   "outputs": [
    {
     "data": {
      "image/png": "[encoded data removed]",
      "text/plain": [
       "<Figure size 432x288 with 1 Axes>"
      ]
     },
     "metadata": {
      "needs_background": "light"
     },
     "output_type": "display_data"
    }
   ],
   "source": [
    "#Plot results\n",
    "ZR = np.zeros(Nt)\n",
    "plt.plot(MT[:,0],label='delta = 0.0')\n",
    "plt.plot(MT[:,1],label='delta = 0.2')\n",
    "plt.plot(MT[:,2],label='delta = 4.0')\n",
    "plt.plot(ZR,color='k',linestyle='--')\n",
    "plt.xlabel('Time step')\n",
    "plt.ylabel('Magentization')\n",
    "plt.xlim(0,Nt)\n",
    "plt.legend(loc='best')\n",
    "plt.show()"
   ]
  },
  {
   "cell_type": "markdown",
   "metadata": {},
   "source": [
    "<!--bibtex\n",
    "\n",
    "@article{Barmettler2010,\n",
    "\tdoi = {10.1088/1367-2630/12/5/055017},\n",
    "\turl = {https://doi.org/10.1088/1367-2630/12/5/055017},\n",
    "\tyear = 2010,\n",
    "\tmonth = {may},\n",
    "\tpublisher = {{IOP} Publishing},\n",
    "\tvolume = {12},\n",
    "\tnumber = {5},\n",
    "\tpages = {055017},\n",
    "\tauthor = {Barmettler, Peter and Matthias Punk and Vladimir Gritsev and Eugene Demler and Ehud Altman},\n",
    "    title = {Quantum quenches in the anisotropic spin-$\\frac{1}{2}$ Heisenberg chain: different approaches to many-body dynamics far from equilibrium},\n",
    "\tjournal = {New Journal of Physics},\n",
    "}\n",
    "\n",
    "@book{MikeIke,\n",
    "    title = {Quantum Computation and Quantum Information},\n",
    "    author = {Nielsen, Michael A. and Chuang, Issac L},\n",
    "    year = {2010},\n",
    "    publisher = {Cambridge University Press}\n",
    "}\n",
    "\n",
    "@misc{Bassman,\n",
    "      title={Simulating Quantum Materials with Digital Quantum Computers}, \n",
    "      author={Bassman, Lindsay and Miroslav Urbanek and Mekena Metcalf and Jonathan Carter and Alexander F. Kemper and Wibe de Jong},\n",
    "      year={2021},\n",
    "      eprint={2101.08836},\n",
    "      archivePrefix={arXiv},\n",
    "      primaryClass={quant-ph}\n",
    "}\n",
    "\n",
    "-->"
   ]
  },
  {
   "cell_type": "markdown",
   "metadata": {},
   "source": [
    "# References\n",
    "\n",
    "<a name=\"cite-Barmettler2010\"/><sup>[^](#ref-1) </sup>Barmettler, Peter and Matthias Punk and Vladimir Gritsev and Eugene Demler and Ehud Altman. 2010. _Quantum quenches in the anisotropic spin-$\\frac12$ Heisenberg chain: different approaches to many-body dynamics far from equilibrium_. [URL](https://doi.org/10.1088/1367-2630/12/5/055017)\n",
    "\n",
    "<a name=\"cite-MikeIke\"/><sup>[^](#ref-2) [^](#ref-4) </sup>Nielsen, Michael A. and Chuang, Issac L. 2010. _Quantum Computation and Quantum Information_.\n",
    "\n",
    "<a name=\"cite-Bassman\"/><sup>[^](#ref-3) </sup>Bassman, Lindsay and Miroslav Urbanek and Mekena Metcalf and Jonathan Carter and Alexander F. Kemper and Wibe de Jong. 2021. _Simulating Quantum Materials with Digital Quantum Computers_.\n",
    "\n"
   ]
  },
  {
   "cell_type": "code",
   "execution_count": null,
   "metadata": {},
   "outputs": [],
   "source": []
  }
 ],
 "metadata": {
  "kernelspec": {
   "display_name": "Python 3",
   "language": "python",
   "name": "python3"
  },
  "language_info": {
   "codemirror_mode": {
    "name": "ipython",
    "version": 3
   },
   "file_extension": ".py",
   "mimetype": "text/x-python",
   "name": "python",
   "nbconvert_exporter": "python",
   "pygments_lexer": "ipython3",
   "version": "3.8.5"
  }
 },
 "nbformat": 4,
 "nbformat_minor": 4
}
