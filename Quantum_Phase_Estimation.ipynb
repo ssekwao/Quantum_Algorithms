{
 "cells": [
  {
   "cell_type": "markdown",
   "metadata": {},
   "source": [
    "# Quantum Phase Estimation\n",
    "\n",
    "Quantum phase estimation algorithm is used to estimate the phase $\\phi$ in $U\\left| v \\right\\rangle = e^{2\\pi i \\phi}\\left| v \\right\\rangle$, where $U$ is a unitary operator and $\\left| v \\right\\rangle$ is it's eigenvector <a name=\"ref-1\"/>[(Nielsen and Chuang, 2010)](#cite-MikeIke). \n",
    "\n",
    "Below is an example to estimate the phase of the unitary operator $U = Z^{1/16}$. Note that $U$ is given by\n",
    "\\begin{equation}U = \\begin{bmatrix}\n",
    "1 & 0\\\\\n",
    "0 & e^{i\\pi/16}\n",
    "\\end{bmatrix},\n",
    "\\end{equation}\n",
    "\n",
    "and the exact solution in this case is $\\phi = 1/32$ for the eigenvector $\\left| v \\right\\rangle = \\left| 1 \\right\\rangle$. Implementation using __[Cirq](https://quantumai.google/cirq)__."
   ]
  },
  {
   "cell_type": "code",
   "execution_count": 2,
   "metadata": {},
   "outputs": [],
   "source": [
    "#Quantum phase estimation"
   ]
  },
  {
   "cell_type": "code",
   "execution_count": 3,
   "metadata": {},
   "outputs": [],
   "source": [
    "import random\n",
    "import numpy as np\n",
    "import cirq\n",
    "import statistics\n",
    "from statistics import mode\n",
    "from cirq import Z, H, X, CNOT, S ,measure"
   ]
  },
  {
   "cell_type": "code",
   "execution_count": 4,
   "metadata": {},
   "outputs": [],
   "source": [
    "#QFT+ gate\n",
    "#QFT+ applied to quantum circuit\n",
    "def QFTD(QC,QBTS,N):\n",
    "\n",
    "    #Apply S gates with negative exponents\n",
    "    for i in range(N):\n",
    "        QC.append(H(QBTS[i])) #Add H gate\n",
    "        M = S**(-1.0)\n",
    "        j = i + 1\n",
    "        while j < N:\n",
    "            QC.append(M(QBTS[i]).controlled_by(QBTS[j]))\n",
    "            M = M**0.5\n",
    "            j += 1\n",
    "            \n",
    "            \n",
    "    #Swap the qubits\n",
    "    nsw = int(N/2)\n",
    "    for i in range(nsw):\n",
    "        QC.append(cirq.SWAP(QBTS[i],QBTS[N-1-i]))"
   ]
  },
  {
   "cell_type": "code",
   "execution_count": 5,
   "metadata": {},
   "outputs": [
    {
     "name": "stdout",
     "output_type": "stream",
     "text": [
      "Circuit:\n",
      "0: ───H───\n",
      "\n",
      "1: ───H───\n",
      "\n",
      "2: ───H───\n",
      "\n",
      "3: ───H───\n",
      "\n",
      "4: ───H───\n",
      "\n",
      "5: ───H───\n",
      "\n",
      "6: ───X───\n"
     ]
    }
   ],
   "source": [
    "n = 6 #Counting qubits\n",
    "qbs = cirq.LineQubit.range(n+1) #One additional qubit for state |1>\n",
    "qc = cirq.Circuit()\n",
    "\n",
    "#Prepate the initial state\n",
    "#Apply H gate to each of the first n qubits\n",
    "for i in range(n):\n",
    "    qc.append(H(qbs[i]))\n",
    "\n",
    "#Add X gate to last qubit \n",
    "qc.append(X(qbs[n]))\n",
    "\n",
    "print(\"Circuit:\")\n",
    "print(qc)"
   ]
  },
  {
   "cell_type": "code",
   "execution_count": 6,
   "metadata": {},
   "outputs": [
    {
     "name": "stdout",
     "output_type": "stream",
     "text": [
      "Circuit:\n",
      "0: ───H───@──────────────────────────────────────\n",
      "          │\n",
      "1: ───H───┼─────@────────────────────────────────\n",
      "          │     │\n",
      "2: ───H───┼─────┼───@────────────────────────────\n",
      "          │     │   │\n",
      "3: ───H───┼─────┼───┼───@────────────────────────\n",
      "          │     │   │   │\n",
      "4: ───H───┼─────┼───┼───┼───@────────────────────\n",
      "          │     │   │   │   │\n",
      "5: ───H───┼─────┼───┼───┼───┼─────────@──────────\n",
      "          │     │   │   │   │         │\n",
      "6: ───X───Z^0───Z───S───T───Z^(1/8)───Z^(1/16)───\n"
     ]
    }
   ],
   "source": [
    "#Apply controlled U gates on last qubit\n",
    "#Least significant qubit of first n qubits controls U\n",
    "#Most significant qubit of first n qubits controls U**(2**(n-1))\n",
    "\n",
    "U = Z**(0.0625) #The U gate\n",
    "U = U**(2**(n-1))\n",
    "for i in range(n):\n",
    "    qc.append(U(qbs[n]).controlled_by(qbs[i]))\n",
    "    U = U**0.5\n",
    "    \n",
    "\n",
    "print(\"Circuit:\")\n",
    "print(qc)"
   ]
  },
  {
   "cell_type": "code",
   "execution_count": 7,
   "metadata": {},
   "outputs": [],
   "source": [
    "#Apply QFT+ to the first n qubits\n",
    "QFTD(qc,qbs,n)\n",
    "\n",
    "#print(\"Circuit:\")\n",
    "#print(qc)"
   ]
  },
  {
   "cell_type": "code",
   "execution_count": 8,
   "metadata": {},
   "outputs": [],
   "source": [
    "#Add measuremnt operator to each of the first n qubits\n",
    "qc.append(measure(qbs[0],qbs[1],qbs[2],qbs[3],qbs[4],qbs[5],key='Results'))\n"
   ]
  },
  {
   "cell_type": "code",
   "execution_count": 9,
   "metadata": {},
   "outputs": [
    {
     "name": "stdout",
     "output_type": "stream",
     "text": [
      "measurements: Results=000010\n",
      "output vector: |0000101⟩\n",
      "Counter({2: 50000})\n"
     ]
    }
   ],
   "source": [
    "#Simulate the circuit\n",
    "Order_List = [qbs[i] for i in range(n+1)] #Order list for the results\n",
    "simulator = cirq.Simulator()\n",
    "results = simulator.simulate(qc, qubit_order=[qbs[i] for i in range(n+1)])\n",
    "print(results)\n",
    "\n",
    "samples=simulator.run(qc,repetitions=50000)\n",
    "print(samples.histogram(key='Results'))"
   ]
  },
  {
   "cell_type": "markdown",
   "metadata": {},
   "source": [
    "\n",
    "\n",
    "\n",
    "\n",
    "\n",
    "Final state should be $\\left| 2^{n}\\phi \\right\\rangle$, where $n$ is the number of counting qubits.\n"
   ]
  },
  {
   "cell_type": "code",
   "execution_count": 10,
   "metadata": {},
   "outputs": [
    {
     "name": "stdout",
     "output_type": "stream",
     "text": [
      "Phi = 0.03125\n",
      "\n"
     ]
    }
   ],
   "source": [
    "Final_state = 2 #Result from simulation\n",
    "#(2**n)*phi = state\n",
    "phi = Final_state/(2**n)\n",
    "print('Phi = %0.5f\\n'%(phi)) #phi = 1/32"
   ]
  },
  {
   "cell_type": "markdown",
   "metadata": {},
   "source": [
    "<!--bibtex\n",
    "\n",
    "@book{MikeIke,\n",
    "    title = {Quantum Computation and Quantum Information},\n",
    "    author = {Nielsen, Michael A. and Chuang, Issac L},\n",
    "    year = {2010},\n",
    "    publisher = {Cambridge University Press}\n",
    "}\n",
    "\n",
    "-->"
   ]
  },
  {
   "cell_type": "markdown",
   "metadata": {},
   "source": [
    "# References\n",
    "\n",
    "<a name=\"cite-MikeIke\"/><sup>[^](#ref-1) </sup>Nielsen, Michael A. and Chuang, Issac L. 2010. _Quantum Computation and Quantum Information_.\n",
    "\n"
   ]
  },
  {
   "cell_type": "code",
   "execution_count": null,
   "metadata": {},
   "outputs": [],
   "source": []
  }
 ],
 "metadata": {
  "kernelspec": {
   "display_name": "Python 3",
   "language": "python",
   "name": "python3"
  },
  "language_info": {
   "codemirror_mode": {
    "name": "ipython",
    "version": 3
   },
   "file_extension": ".py",
   "mimetype": "text/x-python",
   "name": "python",
   "nbconvert_exporter": "python",
   "pygments_lexer": "ipython3",
   "version": "3.8.5"
  }
 },
 "nbformat": 4,
 "nbformat_minor": 4
}
