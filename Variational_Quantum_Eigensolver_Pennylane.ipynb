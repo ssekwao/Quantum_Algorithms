{
 "cells": [
  {
   "cell_type": "markdown",
   "metadata": {},
   "source": [
    "# Variational Quantum Eigensolver\n",
    "\n",
    "The variational quantum eigensolver (VQE) is a quantum/classical method used to find the approximate ground state energies of Hamiltonians <a name=\"ref-1\"/>[(Peruzzo et al., 2014)](#cite-Peruzzo_2014).\n",
    "\n",
    "In the example below, VQE is used to find the lowest eigenvalue of the Hadamard gate <a name=\"ref-2\"/>[(Nielsen and Chuang, 2010)](#cite-MikeIke)\n",
    "\\begin{equation}\n",
    "H = \\frac{1}{\\sqrt{2}}\\begin{bmatrix}\n",
    "1 & 1\\\\\n",
    "1 & -1\n",
    "\\end{bmatrix}.\n",
    "\\end{equation}\n",
    "\n",
    "The anstas states $\\left| \\Psi(\\theta,\\phi) \\right\\rangle$ are prepared using the $U2(\\theta,\\phi)$ gate. Note that the exact value of minimum eigenvalue is $-\\frac{1}{\\sqrt{2}}$. Implementation using __[Pennylane](https://pennylane.ai/)__.\n",
    "\n"
   ]
  },
  {
   "cell_type": "code",
   "execution_count": 1,
   "metadata": {},
   "outputs": [],
   "source": [
    "import pennylane as qml\n",
    "from pennylane import numpy as np #Always import numpy from pennylane"
   ]
  },
  {
   "cell_type": "code",
   "execution_count": 2,
   "metadata": {},
   "outputs": [],
   "source": [
    "n = 1 #Number of qubits\n",
    "\n",
    "#Initialize device\n",
    "#Using qubit model of quantum computation\n",
    "qcdev1 = qml.device(\"default.qubit\", wires=n)"
   ]
  },
  {
   "cell_type": "code",
   "execution_count": 3,
   "metadata": {},
   "outputs": [],
   "source": [
    "#Construct a QNode and cost function\n",
    "#Cost function returns <H>\n",
    "\n",
    "@qml.qnode(qcdev1)\n",
    "def Exp(params):\n",
    "    \n",
    "    #Ansats prepared using U2 gate\n",
    "    #Appy U2 to qubit 0\n",
    "    qml.U2(params[0], params[1], wires=0)\n",
    "    return qml.expval(qml.Hadamard(wires=[0])) #return expected value of H"
   ]
  },
  {
   "cell_type": "code",
   "execution_count": 4,
   "metadata": {},
   "outputs": [
    {
     "name": "stdout",
     "output_type": "stream",
     "text": [
      "0.606491624874932\n"
     ]
    }
   ],
   "source": [
    "#Test the circuit function\n",
    "theta = [0.54,0.12]\n",
    "\n",
    "print(Exp(theta))"
   ]
  },
  {
   "cell_type": "code",
   "execution_count": 5,
   "metadata": {},
   "outputs": [
    {
     "name": "stdout",
     "output_type": "stream",
     "text": [
      "\n",
      "Final parameters:\n",
      "[3.14159198 0.1       ]\n",
      "\n",
      "Minimum eigenvalue:   -0.7071068\n",
      "\n"
     ]
    }
   ],
   "source": [
    "#Optimization\n",
    "#Initial params for optimizer\n",
    "params0 = np.array([0.0451,0.1])\n",
    "\n",
    "# Initialize optimizer\n",
    "opt = qml.GradientDescentOptimizer(stepsize=0.25)\n",
    "\n",
    "nsteps = 100 # number of steps\n",
    "\n",
    "params = params0 #initial parameter values\n",
    "\n",
    "for i in range(nsteps):\n",
    "    # update parameters\n",
    "    params = opt.step(Exp, params)\n",
    "\n",
    "print(\"\\nFinal parameters:\")\n",
    "print(params)\n",
    "print(\"\\nMinimum eigenvalue:   %0.7f\\n\"%(Exp(params)))"
   ]
  },
  {
   "cell_type": "markdown",
   "metadata": {},
   "source": [
    "<!--bibtex\n",
    "\n",
    "@book{MikeIke,\n",
    "    title = {Quantum Computation and Quantum Information},\n",
    "    author = {Nielsen, Michael A. and Chuang, Issac L},\n",
    "    year = {2010},\n",
    "    publisher = {Cambridge University Press}\n",
    "}\n",
    "\n",
    "@article{Peruzzo_2014,\n",
    "   title={A variational eigenvalue solver on a photonic quantum processor},\n",
    "   volume={5},\n",
    "   ISSN={2041-1723},\n",
    "   url={http://dx.doi.org/10.1038/ncomms5213},\n",
    "   DOI={10.1038/ncomms5213},\n",
    "   number={1},\n",
    "   journal={Nature Communications},\n",
    "   publisher={Springer Science and Business Media LLC},\n",
    "   author={Peruzzo, Alberto and McClean, Jarrod and Shadbolt, Peter and Yung, Man-Hong and Zhou, Xiao-Qi and Love, Peter J. and Aspuru-Guzik, Alán and O’Brien, Jeremy L.},\n",
    "   year={2014},\n",
    "   month={Jul}\n",
    "}\n",
    "\n",
    "-->"
   ]
  },
  {
   "cell_type": "code",
   "execution_count": null,
   "metadata": {},
   "outputs": [],
   "source": []
  },
  {
   "cell_type": "markdown",
   "metadata": {},
   "source": [
    "# References\n",
    "\n",
    "<a name=\"cite-Peruzzo_2014\"/><sup>[^](#ref-1) </sup>Peruzzo, Alberto and McClean, Jarrod and Shadbolt, Peter and Yung, Man-Hong and Zhou, Xiao-Qi and Love, Peter J. and Aspuru-Guzik, Alán and O’Brien, Jeremy L.. 2014. _A variational eigenvalue solver on a photonic quantum processor_. [URL](http://dx.doi.org/10.1038/ncomms5213)\n",
    "\n",
    "<a name=\"cite-MikeIke\"/><sup>[^](#ref-2) </sup>Nielsen, Michael A. and Chuang, Issac L. 2010. _Quantum Computation and Quantum Information_.\n",
    "\n"
   ]
  }
 ],
 "metadata": {
  "kernelspec": {
   "display_name": "Python 3",
   "language": "python",
   "name": "python3"
  },
  "language_info": {
   "codemirror_mode": {
    "name": "ipython",
    "version": 3
   },
   "file_extension": ".py",
   "mimetype": "text/x-python",
   "name": "python",
   "nbconvert_exporter": "python",
   "pygments_lexer": "ipython3",
   "version": "3.8.5"
  }
 },
 "nbformat": 4,
 "nbformat_minor": 4
}
