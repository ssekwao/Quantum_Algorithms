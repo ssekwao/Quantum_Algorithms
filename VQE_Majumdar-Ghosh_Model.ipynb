{
 "cells": [
  {
   "cell_type": "markdown",
   "metadata": {},
   "source": [
    "# Majumdar-Ghosh Model\n",
    "\n",
    "The hamiltonian for the 1D Majumdar-Ghosh model is give by\n",
    "\n",
    "\\begin{equation}\n",
    "H = \\frac{J}{2}\\sum_{i=1}^{N}\\big\\{\\sigma_i^x\\sigma_{i+1}^x+\\sigma_i^y\\sigma_{i+1}^y+\\sigma_i^z\\sigma_{i+1}^z\\big\\}+\\frac{J}{4}\\sum_{i=1}^{N}\\big\\{\\sigma_i^x\\sigma_{i+2}^x+\\sigma_i^y\\sigma_{i+2}^y+\\sigma_i^z\\sigma_{i+2}^z\\big\\}\n",
    "\\end{equation}\n",
    "\n",
    "where $J$ is the coupling parameter and $\\sigma^{x,y,z}$ are the Pauli operators <a name=\"ref-1\"/>[(Majumdar, 1970)](#cite-Majumdar1970). In this example, the Variational Quantum Eigensolver method is used to find the approximate ground state energy of the above hamiltonian with boundary conditions $\\sigma_{N+1} = \\sigma_{1}$, and $\\sigma_{N+2} = \\sigma_{2}$. Note that the exact ground state energy is $-3NJ/4$ <a name=\"ref-2\"/>[(Majumdar, 1970)](#cite-Majumdar1970). Implementation using __[Pennylane](https://pennylane.ai/)__."
   ]
  },
  {
   "cell_type": "code",
   "execution_count": 1,
   "metadata": {},
   "outputs": [],
   "source": [
    "import pennylane as qml\n",
    "from scipy.optimize import minimize\n",
    "from pennylane import numpy as np #Always import numpy from pennylane\n",
    "import matplotlib.pyplot as plt"
   ]
  },
  {
   "cell_type": "code",
   "execution_count": 2,
   "metadata": {},
   "outputs": [
    {
     "name": "stdout",
     "output_type": "stream",
     "text": [
      "0.6159288262743123\n"
     ]
    }
   ],
   "source": [
    "N = 4 #Number of spins\n",
    "NS = 2**N #Number of states\n",
    "\n",
    "#Quantum circuit for the first part of the hamiltonian\n",
    "#Construct a QNode\n",
    "#Initialize device\n",
    "qcdev = qml.device(\"default.qubit\", wires=N)\n",
    "@qml.qnode(qcdev)\n",
    "def Circuit1(params,coor,Wires):\n",
    "\n",
    "    #Prepare state\n",
    "    #Need to normalize parameters\n",
    "    mag = np.sqrt(np.dot(params.T,params))\n",
    "    params = params/mag\n",
    "    qml.QubitStateVector(params, wires=range(N))\n",
    "     \n",
    "    indx = Wires[0]\n",
    "    if coor == 0:\n",
    "        if indx < N - 1:\n",
    "            return qml.expval(qml.PauliX(indx) @ qml.PauliX(indx+1))\n",
    "        else:\n",
    "            return qml.expval(qml.PauliX(indx) @ qml.PauliX(0))\n",
    "    \n",
    "    elif coor == 1:\n",
    "        if indx < N - 1:\n",
    "            return qml.expval(qml.PauliY(indx) @ qml.PauliY(indx+1))\n",
    "        else:\n",
    "            return qml.expval(qml.PauliY(indx) @ qml.PauliY(0))\n",
    "        \n",
    "    else:\n",
    "        if indx < N - 1:\n",
    "            return qml.expval(qml.PauliZ(indx) @ qml.PauliZ(indx+1))\n",
    "        else:\n",
    "            return qml.expval(qml.PauliZ(indx) @ qml.PauliZ(0))\n",
    "\n",
    "        \n",
    "#Test the Circuit function\n",
    "theta = np.random.rand(NS)\n",
    "wires = [3]\n",
    "print(Circuit1(theta,0,Wires=wires))"
   ]
  },
  {
   "cell_type": "code",
   "execution_count": 3,
   "metadata": {},
   "outputs": [
    {
     "name": "stdout",
     "output_type": "stream",
     "text": [
      "0.3881528176426987\n"
     ]
    }
   ],
   "source": [
    "#Quantum circuit for the second part of the hamiltonian\n",
    "@qml.qnode(qcdev)\n",
    "def Circuit2(params,coor,Wires):\n",
    "\n",
    "    #Prepare state\n",
    "    #Need to normalize parameters\n",
    "    mag = np.sqrt(np.dot(params.T,params))\n",
    "    params = params/mag\n",
    "    qml.QubitStateVector(params, wires=range(N))\n",
    "     \n",
    "    indx = Wires[0]\n",
    "    if coor == 0:\n",
    "        if indx < N - 2:\n",
    "            return qml.expval(qml.PauliX(indx) @ qml.PauliX(indx+2))\n",
    "        else:\n",
    "            return qml.expval(qml.PauliX(indx) @ qml.PauliX(indx+2-N))\n",
    "    \n",
    "    elif coor == 1:\n",
    "        if indx < N - 2:\n",
    "            return qml.expval(qml.PauliY(indx) @ qml.PauliY(indx+2))\n",
    "        else:\n",
    "            return qml.expval(qml.PauliY(indx) @ qml.PauliY(indx+2-N))\n",
    "        \n",
    "    else:\n",
    "        if indx < N - 2:\n",
    "            return qml.expval(qml.PauliZ(indx) @ qml.PauliZ(indx+2))\n",
    "        else:\n",
    "            return qml.expval(qml.PauliZ(indx) @ qml.PauliZ(indx+2-N))\n",
    "\n",
    "        \n",
    "#Test the Circuit function\n",
    "vec = np.random.rand(NS)\n",
    "wires = [3]\n",
    "print(Circuit2(vec,2,Wires=wires))"
   ]
  },
  {
   "cell_type": "code",
   "execution_count": 4,
   "metadata": {},
   "outputs": [
    {
     "name": "stdout",
     "output_type": "stream",
     "text": [
      "0.6068990070638836\n"
     ]
    }
   ],
   "source": [
    "#Objective function to optimize\n",
    "#This function return <H>/N\n",
    "def Cost(theta,J):\n",
    "\n",
    "    exp = 0.0\n",
    "    for i in range(N):\n",
    "        wrs = [i]\n",
    "        for k in range(3):\n",
    "            exp += Circuit1(theta,k,Wires=wrs)\n",
    "            exp += 0.5*Circuit2(theta,k,Wires=wrs)\n",
    "            \n",
    "    return 0.5*J*exp/N \n",
    "\n",
    "#Test the Cost function\n",
    "theta = np.random.rand(NS)\n",
    "print(Cost(theta,1.0))"
   ]
  },
  {
   "cell_type": "code",
   "execution_count": 5,
   "metadata": {},
   "outputs": [
    {
     "name": "stdout",
     "output_type": "stream",
     "text": [
      "Final parameters:\n",
      "[ 9.37714088e-09 -7.98764073e-08  1.16493558e-07  2.14536342e+00\n",
      " -2.30595145e-09 -1.24408892e+00 -9.01274493e-01 -3.59505072e-09\n",
      " -3.54656873e-08 -9.01274417e-01 -1.24408890e+00  5.46459529e-08\n",
      "  2.14536331e+00 -7.21792468e-08  4.97678696e-09  8.70746612e-09]\n",
      "\n",
      "\n",
      "Eg_sim/N = -1.500, Eg_exact/N = -1.500\n",
      "\n"
     ]
    }
   ],
   "source": [
    "#Optimization using COBYLA\n",
    "J = 2 #Coupling parameter\n",
    "Eg_exact = -1.5 #Exact value of ground state energy per site for J = 2\n",
    "\n",
    "Theta0 = 0.01*np.random.rand(NS) #Initial guess for theta\n",
    "Result = minimize(Cost, Theta0, args=(J), method='COBYLA', constraints=(), tol=1e-9)\n",
    "print('Final parameters:')\n",
    "print(Result.x)\n",
    "Eg_sim = Cost(Result.x,J)\n",
    "print(\"\\n\")\n",
    "print(\"Eg_sim/N = %0.3f, Eg_exact/N = %0.3f\\n\"%(Eg_sim,Eg_exact))"
   ]
  },
  {
   "cell_type": "markdown",
   "metadata": {},
   "source": [
    "<!--bibtex\n",
    "\n",
    "@article{Barmettler2010,\n",
    "\tdoi = {10.1088/1367-2630/12/5/055017},\n",
    "\turl = {https://doi.org/10.1088/1367-2630/12/5/055017},\n",
    "\tyear = 2010,\n",
    "\tmonth = {may},\n",
    "\tpublisher = {{IOP} Publishing},\n",
    "\tvolume = {12},\n",
    "\tnumber = {5},\n",
    "\tpages = {055017},\n",
    "\tauthor = {Barmettler, Peter and Matthias Punk and Vladimir Gritsev and Eugene Demler and Ehud Altman},\n",
    "    title = {Quantum quenches in the anisotropic spin-$\\frac{1}{2}$ Heisenberg chain: different approaches to many-body dynamics far from equilibrium},\n",
    "\tjournal = {New Journal of Physics},\n",
    "}\n",
    "\n",
    "@book{MikeIke,\n",
    "    title = {Quantum Computation and Quantum Information},\n",
    "    author = {Nielsen, Michael A. and Chuang, Issac L},\n",
    "    year = {2010},\n",
    "    publisher = {Cambridge University Press}\n",
    "}\n",
    "\n",
    "@article{Majumdar1970,\n",
    "\tdoi = {10.1088/0022-3719/3/4/019},\n",
    "\turl = {https://doi.org/10.1088/0022-3719/3/4/019},\n",
    "\tyear = 1970,\n",
    "\tmonth = {apr},\n",
    "\tpublisher = {{IOP} Publishing},\n",
    "\tvolume = {3},\n",
    "\tnumber = {4},\n",
    "\tpages = {911--915},\n",
    "\tauthor = {Majumdar, C, K },\n",
    "\ttitle = {Antiferromagnetic model with known ground state},\n",
    "\tjournal = {Journal of Physics C: Solid State Physics},\n",
    "\tabstract = {The ground state of the one-dimensional antiferromagnetic model, with the Hamiltonian H=1/2 j Sigma i=1n sigma i. sigma i+1+1/4j Sigma i=1n sigma i. sigma 1+2 n sigma i. sigma 1+2 (j>O, N even, N+1 identical to 1, N+2 identical to 2) can be given explicitly in terms of spin eigen-functions. Various properties of the ground state are studied. An approximate determination of the low-lying excited states shows the usual linear frequency-wave-vector relationship.}\n",
    "}\n",
    "\n",
    "-->"
   ]
  },
  {
   "cell_type": "code",
   "execution_count": null,
   "metadata": {},
   "outputs": [],
   "source": []
  },
  {
   "cell_type": "markdown",
   "metadata": {},
   "source": [
    "# References\n",
    "\n",
    "<a name=\"cite-Majumdar1970\"/><sup>[^](#ref-1) [^](#ref-2) </sup>Majumdar, C, K . 1970. _Antiferromagnetic model with known ground state_. [URL](https://doi.org/10.1088/0022-3719/3/4/019)\n",
    "\n"
   ]
  }
 ],
 "metadata": {
  "kernelspec": {
   "display_name": "Python 3",
   "language": "python",
   "name": "python3"
  },
  "language_info": {
   "codemirror_mode": {
    "name": "ipython",
    "version": 3
   },
   "file_extension": ".py",
   "mimetype": "text/x-python",
   "name": "python",
   "nbconvert_exporter": "python",
   "pygments_lexer": "ipython3",
   "version": "3.8.5"
  }
 },
 "nbformat": 4,
 "nbformat_minor": 4
}
