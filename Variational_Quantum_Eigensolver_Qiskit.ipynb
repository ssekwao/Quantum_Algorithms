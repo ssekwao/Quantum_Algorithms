{
 "cells": [
  {
   "cell_type": "markdown",
   "metadata": {},
   "source": [
    "# Variational Quantum Eigensolver \n",
    "\n",
    "The variational quantum eigensolver (VQE) is a quantum/classical method used to find the approximate ground state energies of Hamiltonians <a name=\"ref-1\"/>[(Peruzzo et al., 2014)](#cite-Peruzzo_2014).\n",
    "\n",
    "In the example below, VQE is used to find the lowest eigenvalue of the Hadamard gate <a name=\"ref-2\"/>[(Nielsen and Chuang, 2010)](#cite-MikeIke)\n",
    "\\begin{equation}\n",
    "H = \\frac{1}{\\sqrt{2}}\\begin{bmatrix}\n",
    "1 & 1\\\\\n",
    "1 & -1\n",
    "\\end{bmatrix}.\n",
    "\\end{equation}\n",
    "\n",
    "The anstas states $\\left| \\Psi(\\theta) \\right\\rangle$ are prepared using the $R_x(\\theta)$ gate. Note that the exact value of minimum eigenvalue is $-\\frac{1}{\\sqrt{2}}$. Implementation using __[Qiskit](https://qiskit.org/)__."
   ]
  },
  {
   "cell_type": "code",
   "execution_count": 63,
   "metadata": {},
   "outputs": [],
   "source": [
    "#VQE example"
   ]
  },
  {
   "cell_type": "code",
   "execution_count": 69,
   "metadata": {},
   "outputs": [],
   "source": [
    "import matplotlib.pyplot as plt\n",
    "import numpy as np\n",
    "from scipy.optimize import fmin_cobyla\n",
    "from scipy.optimize import minimize\n",
    "\n",
    "from qiskit import IBMQ, Aer\n",
    "from qiskit.providers.ibmq import least_busy\n",
    "from qiskit import QuantumCircuit\n",
    "from qiskit.opflow import H, StateFn"
   ]
  },
  {
   "cell_type": "code",
   "execution_count": 97,
   "metadata": {},
   "outputs": [
    {
     "name": "stdout",
     "output_type": "stream",
     "text": [
      "0.0\n"
     ]
    }
   ],
   "source": [
    "n = 1 #Number of qubits\n",
    "OP = H #Hamiltonian\n",
    "\n",
    "#Objective function\n",
    "def Exp(theta):\n",
    "    \n",
    "    #Quantum circuit\n",
    "    QC = QuantumCircuit(n)\n",
    "    \n",
    "    #Ansats prepared using Rx gate\n",
    "    #Apply Rx(theta) gate\n",
    "    QC.rx(theta[0],0)\n",
    "    \n",
    "    #Final state\n",
    "    Phy = StateFn(QC)\n",
    "    \n",
    "    #Expected value\n",
    "    eh = (~Phy @ H @ Phy).eval()\n",
    "    \n",
    "    return eh.real\n",
    "    \n",
    "#Test \n",
    "theta = np.array([np.pi/2])\n",
    "print(Exp(theta))"
   ]
  },
  {
   "cell_type": "code",
   "execution_count": 98,
   "metadata": {},
   "outputs": [
    {
     "data": {
      "image/png": "[encoded data removed]",
      "text/plain": [
       "<Figure size 432x288 with 1 Axes>"
      ]
     },
     "metadata": {
      "needs_background": "light"
     },
     "output_type": "display_data"
    }
   ],
   "source": [
    "#Plot of <H> vs theta\n",
    "na = 100 #Number of angles\n",
    "Angl = np.linspace(0.0,2.0*np.pi,na)\n",
    "Exps = np.zeros(na)\n",
    "\n",
    "for i in range(na):\n",
    "    Exps[i] = Exp(np.array([Angl[i]]))\n",
    "    \n",
    "plt.plot(Angl,Exps)\n",
    "plt.xlabel('Angle (rad)')\n",
    "plt.ylabel('<H>')\n",
    "plt.show()"
   ]
  },
  {
   "cell_type": "code",
   "execution_count": 100,
   "metadata": {},
   "outputs": [
    {
     "name": "stdout",
     "output_type": "stream",
     "text": [
      "Minimum angle = 3.14159262\n",
      "Minimum eigenvalue = -0.70710678\n"
     ]
    }
   ],
   "source": [
    "#Optimization\n",
    "\n",
    "def con1(x):\n",
    "    return x\n",
    "def con2(x):\n",
    "    return 2*np.pi-x\n",
    "\n",
    "Theta0 = np.array([0.12])\n",
    "min_angle = fmin_cobyla(Exp, Theta0, [con1, con2], rhoend=1e-9)\n",
    "print('Minimum angle = %0.8f'%(min_angle[0]))\n",
    "print('Minimum eigenvalue = %0.8f'%(Exp(min_angle)))"
   ]
  },
  {
   "cell_type": "markdown",
   "metadata": {},
   "source": [
    "<!--bibtex\n",
    "\n",
    "@book{MikeIke,\n",
    "    title = {Quantum Computation and Quantum Information},\n",
    "    author = {Nielsen, Michael A. and Chuang, Issac L},\n",
    "    year = {2010},\n",
    "    publisher = {Cambridge University Press}\n",
    "}\n",
    "\n",
    "@article{Peruzzo_2014,\n",
    "   title={A variational eigenvalue solver on a photonic quantum processor},\n",
    "   volume={5},\n",
    "   ISSN={2041-1723},\n",
    "   url={http://dx.doi.org/10.1038/ncomms5213},\n",
    "   DOI={10.1038/ncomms5213},\n",
    "   number={1},\n",
    "   journal={Nature Communications},\n",
    "   publisher={Springer Science and Business Media LLC},\n",
    "   author={Peruzzo, Alberto and McClean, Jarrod and Shadbolt, Peter and Yung, Man-Hong and Zhou, Xiao-Qi and Love, Peter J. and Aspuru-Guzik, Alán and O’Brien, Jeremy L.},\n",
    "   year={2014},\n",
    "   month={Jul}\n",
    "}\n",
    "\n",
    "-->"
   ]
  },
  {
   "cell_type": "markdown",
   "metadata": {},
   "source": [
    "# References\n",
    "\n",
    "<a name=\"cite-Peruzzo_2014\"/><sup>[^](#ref-1) </sup>Peruzzo, Alberto and McClean, Jarrod and Shadbolt, Peter and Yung, Man-Hong and Zhou, Xiao-Qi and Love, Peter J. and Aspuru-Guzik, Alán and O’Brien, Jeremy L.. 2014. _A variational eigenvalue solver on a photonic quantum processor_. [URL](http://dx.doi.org/10.1038/ncomms5213)\n",
    "\n",
    "<a name=\"cite-MikeIke\"/><sup>[^](#ref-2) </sup>Nielsen, Michael A. and Chuang, Issac L. 2010. _Quantum Computation and Quantum Information_.\n",
    "\n"
   ]
  },
  {
   "cell_type": "code",
   "execution_count": null,
   "metadata": {},
   "outputs": [],
   "source": []
  }
 ],
 "metadata": {
  "kernelspec": {
   "display_name": "Python 3",
   "language": "python",
   "name": "python3"
  },
  "language_info": {
   "codemirror_mode": {
    "name": "ipython",
    "version": 3
   },
   "file_extension": ".py",
   "mimetype": "text/x-python",
   "name": "python",
   "nbconvert_exporter": "python",
   "pygments_lexer": "ipython3",
   "version": "3.8.5"
  }
 },
 "nbformat": 4,
 "nbformat_minor": 4
}
