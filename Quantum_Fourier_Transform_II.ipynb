{
 "cells": [
  {
   "cell_type": "markdown",
   "metadata": {},
   "source": [
    "# Quantum Fourier Transform II\n",
    "\n",
    "Implementation of the 4-qubit operation $QFT\\left| \\psi \\right\\rangle$ using __[Cirq](https://quantumai.google/cirq)__. The state $\\left| \\psi \\right\\rangle$ in this example is given by\n",
    "\n",
    "\\begin{equation}\n",
    "\\left| \\psi \\right\\rangle = \\frac{1}{2\\sqrt{2}}\\sum_{j=0}^{15}\\sin(\\pi j/8) \\left| j \\right\\rangle,\n",
    "\\end{equation}\n",
    "\n",
    "and the $n$ qubit $QFT$ operator is defined as <a name=\"ref-1\"/>[(Nielsen and Chuang, 2010)](#cite-MikeIke)\n",
    "\n",
    "\\begin{equation}\n",
    "QFT = \\frac{1}{\\sqrt{2^n}}\\sum_{j=0}^{2^n-1}\\sum_{k=0}^{2^n-1}e^{2\\pi ikj/{2^n}}\\left| k \\right\\rangle \\left\\langle j \\right|.\n",
    "\\end{equation}"
   ]
  },
  {
   "cell_type": "code",
   "execution_count": 1,
   "metadata": {},
   "outputs": [],
   "source": [
    "import random\n",
    "import numpy as np\n",
    "import cirq\n",
    "from cirq import H, X, CNOT, S,measure"
   ]
  },
  {
   "cell_type": "code",
   "execution_count": 2,
   "metadata": {},
   "outputs": [],
   "source": [
    "#QFT gate\n",
    "#QFT applied to first N qubits of quantum circuit\n",
    "def QFT(QC,QBTS,N):\n",
    "    \n",
    "    #Apply S gates with positive exponents\n",
    "    for i in range(N):\n",
    "        QC.append(H(QBTS[i])) #Add H gate\n",
    "        M = S\n",
    "        j = i + 1\n",
    "        while j < N:\n",
    "            QC.append(M(QBTS[i]).controlled_by(QBTS[j]))\n",
    "            M = M**0.5\n",
    "            j += 1\n",
    "    \n",
    "    #Swap the qubits\n",
    "    nsw = int(N/2)\n",
    "    for i in range(nsw):\n",
    "        QC.append(cirq.SWAP(QBTS[i],QBTS[N-1-i]))"
   ]
  },
  {
   "cell_type": "code",
   "execution_count": 3,
   "metadata": {},
   "outputs": [],
   "source": [
    "n = 4 #Number of qubits\n",
    "ns = 2**n #Number of states\n",
    "\n",
    "#Qubits\n",
    "qbts = cirq.LineQubit.range(n)\n",
    "\n",
    "#Quantum circuit\n",
    "qc = cirq.Circuit()\n",
    "\n",
    "#Initial state\n",
    "#State defined above\n",
    "init_state = np.array([0.5*np.sin(i*np.pi/8)/np.sqrt(2) for i in range(ns)])\n",
    "\n",
    "#Apply QFT to quantum circuit \n",
    "QFT(qc,qbts,n)"
   ]
  },
  {
   "cell_type": "code",
   "execution_count": 4,
   "metadata": {},
   "outputs": [
    {
     "name": "stdout",
     "output_type": "stream",
     "text": [
      "0j\n",
      "(-0+0.7071067j)\n",
      "0j\n",
      "(-0+0j)\n",
      "0j\n",
      "(-0+0j)\n",
      "0j\n",
      "(-0+0j)\n",
      "0j\n",
      "(-0-4.2146848e-08j)\n",
      "0j\n",
      "(-0+0j)\n",
      "0j\n",
      "(-0+0j)\n",
      "0j\n",
      "(-0-0.7071067j)\n"
     ]
    }
   ],
   "source": [
    "#Simulate circuit to get final state\n",
    "#Final state should be j*(|1> - |15>)/sqrt(2)\n",
    "\n",
    "simulator = cirq.Simulator()\n",
    "Result = simulator.simulate(qc,initial_state=init_state, qubit_order=[qbts[i] for i in range(n)])\n",
    "Final_State = np.around(Result.final_state_vector, 16)\n",
    "for i in range(ns):\n",
    "    print(Final_State[i])"
   ]
  },
  {
   "cell_type": "markdown",
   "metadata": {},
   "source": [
    "<!--bibtex\n",
    "\n",
    "@book{MikeIke,\n",
    "    title = {Quantum Computation and Quantum Information},\n",
    "    author = {Nielsen, Michael A. and Chuang, Issac L},\n",
    "    year = {2010},\n",
    "    publisher = {Cambridge University Press}\n",
    "}\n",
    "\n",
    "-->"
   ]
  },
  {
   "cell_type": "code",
   "execution_count": null,
   "metadata": {},
   "outputs": [],
   "source": []
  },
  {
   "cell_type": "markdown",
   "metadata": {},
   "source": [
    "# References\n",
    "\n",
    "<a name=\"cite-MikeIke\"/><sup>[^](#ref-1) </sup>Nielsen, Michael A. and Chuang, Issac L. 2010. _Quantum Computation and Quantum Information_.\n",
    "\n"
   ]
  }
 ],
 "metadata": {
  "kernelspec": {
   "display_name": "Python 3",
   "language": "python",
   "name": "python3"
  },
  "language_info": {
   "codemirror_mode": {
    "name": "ipython",
    "version": 3
   },
   "file_extension": ".py",
   "mimetype": "text/x-python",
   "name": "python",
   "nbconvert_exporter": "python",
   "pygments_lexer": "ipython3",
   "version": "3.8.5"
  }
 },
 "nbformat": 4,
 "nbformat_minor": 4
}
