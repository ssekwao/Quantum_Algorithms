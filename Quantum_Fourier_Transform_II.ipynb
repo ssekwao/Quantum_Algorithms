{
 "cells": [
  {
   "cell_type": "markdown",
   "metadata": {},
   "source": [
    "# Quantum Fourier Transform II\n",
    "\n",
    "Implementation of the $n$-qubit operation $QFT\\left| \\psi \\right\\rangle$ using __[Cirq](https://quantumai.google/cirq)__. The state $\\left| \\psi \\right\\rangle$ in this example is given by\n",
    "\n",
    "\\begin{equation}\n",
    "\\left| \\psi \\right\\rangle = \\frac{1}{\\sqrt{2}}\\sum_{j=0}^{15}\\sin(2\\pi j/16) \\left| j \\right\\rangle,\n",
    "\\end{equation}\n",
    "\n",
    "and the $QFT$ operator is defined as <a name=\"ref-1\"/>[(Nielsen and Chuang, 2010)](#cite-MikeIke)\n",
    "\n",
    "\\begin{equation}\n",
    "QFT = \\frac{1}{\\sqrt{2^n}}\\sum_{j=0}^{2^n-1}\\sum_{k=0}^{2^n-1}e^{2\\pi ikj/{2^n}}\\left| k \\right\\rangle \\left\\langle j \\right|.\n",
    "\\end{equation}"
   ]
  },
  {
   "cell_type": "code",
   "execution_count": 26,
   "metadata": {},
   "outputs": [],
   "source": [
    "import random\n",
    "import numpy as np\n",
    "import cirq\n",
    "from cirq import H, X, CNOT, S,measure"
   ]
  },
  {
   "cell_type": "code",
   "execution_count": 27,
   "metadata": {},
   "outputs": [],
   "source": [
    "#QFT gate\n",
    "#Inputs: quantum circuit and it's qubits\n",
    "#Output: quantum circuit with QFT applied to first nq qubits\n",
    "def QFT(qc,qbts,nq):\n",
    "    \n",
    "    if nq == 1:\n",
    "       n = len(qbts) #Number of qubits\n",
    "    else:\n",
    "       n = nq #Apply to first nq qubits\n",
    "    \n",
    "    #Apply S gates with positive exponents\n",
    "    for i in range(n):\n",
    "        qc.append(H(qbts[i])) #Add H gate\n",
    "        for j in range(i+1,n):\n",
    "            po = j-i-1\n",
    "            exp = 1.0/(2**po)\n",
    "            SS = S**exp\n",
    "            qc.append(SS(qbts[i]).controlled_by(qbts[j]))\n",
    "    \n",
    "    #Swap the qubits\n",
    "    for i in range(int(n/2)):\n",
    "        qc.append(cirq.SWAP(qbts[i],qbts[n-1-i]))\n",
    "        \n",
    "    return qc"
   ]
  },
  {
   "cell_type": "code",
   "execution_count": 30,
   "metadata": {},
   "outputs": [],
   "source": [
    "N = 4 #Number of qubits\n",
    "Ns = 2**N\n",
    "Final_State = np.zeros(Ns,dtype=complex) #Final state\n",
    "\n",
    "simulator = cirq.Simulator() #Simulator\n",
    "\n",
    "count = 0\n",
    "for i in range(2):\n",
    "    for j in range(2):\n",
    "        for k in range(2):\n",
    "            for l in range(2):\n",
    "                \n",
    "                #Quantum circuit\n",
    "                qbs1 = cirq.LineQubit.range(N)\n",
    "                qc1 = cirq.Circuit()\n",
    "                if i == 1:\n",
    "                    qc1.append(X(qbs1[0]))\n",
    "                \n",
    "                if j == 1:\n",
    "                    qc1.append(X(qbs1[1]))\n",
    "                \n",
    "                if k == 1:\n",
    "                    qc1.append(X(qbs1[2]))\n",
    "                \n",
    "                if l == 1:\n",
    "                    qc1.append(X(qbs1[3]))\n",
    "                \n",
    "                #Apply QFT \n",
    "                qc1 = QFT(qc1,qbs1,N)\n",
    "            \n",
    "                #Get state vector before measurement\n",
    "                Result = simulator.simulate(qc1, qubit_order=[qbs1[0], qbs1[1],qbs1[2],qbs1[3]])\n",
    "                State = np.around(Result.final_state_vector, 12)\n",
    "            \n",
    "                #Add state to final state with appropriate multiplier\n",
    "                Final_State += np.sin(2.0*np.pi*count/Ns)*State/np.sqrt(2.0)\n",
    "            \n",
    "                count+=1"
   ]
  },
  {
   "cell_type": "code",
   "execution_count": 31,
   "metadata": {},
   "outputs": [
    {
     "name": "stdout",
     "output_type": "stream",
     "text": [
      "0j\n",
      "(-2.235174181852706e-08+1.414213377982378j)\n",
      "0j\n",
      "(-1.1175870923141318e-08+7.450580596923828e-09j)\n",
      "(2.7755575615628914e-17+0j)\n",
      "(-1.1175870923141318e-08+7.450580596923828e-09j)\n",
      "(2.7755575615628914e-17+0j)\n",
      "(-2.235174181852706e-08-4.0978193283081055e-08j)\n",
      "(2.7755575615628914e-17+0j)\n",
      "(2.2351741769954803e-08+4.0978193283081055e-08j)\n",
      "(2.7755575615628914e-17+0j)\n",
      "(1.1175870867630167e-08-7.450580596923828e-09j)\n",
      "(2.7755575615628914e-17+0j)\n",
      "(1.1175870867630167e-08-7.450580596923828e-09j)\n",
      "0j\n",
      "(2.235174176301591e-08-1.414213377982378j)\n"
     ]
    }
   ],
   "source": [
    "#Final state should be i*sqrt(2)*(|1> - |15>)\n",
    "for i in range(Ns):\n",
    "   print(Final_State[i])"
   ]
  },
  {
   "cell_type": "markdown",
   "metadata": {},
   "source": [
    "<!--bibtex\n",
    "\n",
    "@book{MikeIke,\n",
    "    title = {Quantum Computation and Quantum Information},\n",
    "    author = {Nielsen, Michael A. and Chuang, Issac L},\n",
    "    year = {2010},\n",
    "    publisher = {Cambridge University Press}\n",
    "}\n",
    "\n",
    "-->"
   ]
  },
  {
   "cell_type": "code",
   "execution_count": null,
   "metadata": {},
   "outputs": [],
   "source": []
  },
  {
   "cell_type": "markdown",
   "metadata": {},
   "source": [
    "# References\n",
    "\n",
    "<a name=\"cite-MikeIke\"/><sup>[^](#ref-1) </sup>Nielsen, Michael A. and Chuang, Issac L. 2010. _Quantum Computation and Quantum Information_.\n",
    "\n"
   ]
  }
 ],
 "metadata": {
  "kernelspec": {
   "display_name": "Python 3",
   "language": "python",
   "name": "python3"
  },
  "language_info": {
   "codemirror_mode": {
    "name": "ipython",
    "version": 3
   },
   "file_extension": ".py",
   "mimetype": "text/x-python",
   "name": "python",
   "nbconvert_exporter": "python",
   "pygments_lexer": "ipython3",
   "version": "3.8.5"
  }
 },
 "nbformat": 4,
 "nbformat_minor": 4
}
