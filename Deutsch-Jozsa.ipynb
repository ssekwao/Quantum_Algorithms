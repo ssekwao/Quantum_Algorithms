{
 "cells": [
  {
   "cell_type": "markdown",
   "metadata": {},
   "source": [
    ">## Deutsch-Jozsa Algorithm\n",
    "Implementation using __[Cirq](https://quantumai.google/cirq)__."
   ]
  },
  {
   "cell_type": "code",
   "execution_count": 16,
   "metadata": {},
   "outputs": [],
   "source": [
    "#Deutsch-Jozsa Algorithm\n",
    "#Samwel Sekwao"
   ]
  },
  {
   "cell_type": "code",
   "execution_count": 17,
   "metadata": {},
   "outputs": [],
   "source": [
    "import random\n",
    "\n",
    "import cirq\n",
    "from cirq import H, X, CNOT, measure"
   ]
  },
  {
   "cell_type": "code",
   "execution_count": 18,
   "metadata": {},
   "outputs": [
    {
     "name": "stdout",
     "output_type": "stream",
     "text": [
      "Circuit:\n",
      "0: ───H───────\n",
      "\n",
      "1: ───H───────\n",
      "\n",
      "2: ───H───────\n",
      "\n",
      "3: ───X───H───\n"
     ]
    }
   ],
   "source": [
    "n = 3 #Number of measured qubits\n",
    "Fx = 1 #For f(x) = constant = 1 \n",
    "\n",
    "#The qubits\n",
    "qubs = cirq.LineQubit.range(n+1) #q0 = qubs[0], q1 = qubs[1], etc...\n",
    "\n",
    "#The circuit\n",
    "djc = cirq.Circuit()\n",
    "\n",
    "#Apply X gate to last cubit to make it |1> instead of |0>\n",
    "djc.append(X(qubs[n]))\n",
    "\n",
    "#Apply H gates to all cubits\n",
    "for i in range(n+1):\n",
    "    djc.append(H(qubs[i]))\n",
    "    \n",
    "print(\"Circuit:\")\n",
    "print(djc)\n",
    "\n"
   ]
  },
  {
   "cell_type": "code",
   "execution_count": 19,
   "metadata": {},
   "outputs": [
    {
     "name": "stdout",
     "output_type": "stream",
     "text": [
      "Circuit:\n",
      "0: ───H───────────\n",
      "\n",
      "1: ───H───────────\n",
      "\n",
      "2: ───H───────────\n",
      "\n",
      "3: ───X───H───X───\n"
     ]
    }
   ],
   "source": [
    "#Function to add Uf to the circuit.\n",
    "#Contant function\n",
    "#If f(x) = 0, do nothing\n",
    "#If f(x) = 1 add X to last qubit\n",
    "\n",
    "def ConstUf(qc,fun,n):\n",
    "    if fun == 1:\n",
    "        qc.append(X(qubs[n]))\n",
    "        \n",
    "#Add the Uf operator\n",
    "ConstUf(djc,Fx,n)\n",
    "print(\"Circuit:\")\n",
    "print(djc)"
   ]
  },
  {
   "cell_type": "code",
   "execution_count": 20,
   "metadata": {},
   "outputs": [
    {
     "name": "stdout",
     "output_type": "stream",
     "text": [
      "Circuit:\n",
      "0: ───H───H───M('result_0')───\n",
      "\n",
      "1: ───H───H───M('result_1')───\n",
      "\n",
      "2: ───H───H───M('result_2')───\n",
      "\n",
      "3: ───X───H───X───────────────\n"
     ]
    }
   ],
   "source": [
    "#Apply H gates and measurement to first n qubits\n",
    "for i in range(n):\n",
    "    djc.append([H(qubs[i]),measure(qubs[i], key='result_%d'%(i))])\n",
    "    \n",
    "print(\"Circuit:\")\n",
    "print(djc)"
   ]
  },
  {
   "cell_type": "code",
   "execution_count": 21,
   "metadata": {},
   "outputs": [
    {
     "name": "stdout",
     "output_type": "stream",
     "text": [
      "Results:\n",
      "result_0=00000000000000000000\n",
      "result_1=00000000000000000000\n",
      "result_2=00000000000000000000\n"
     ]
    }
   ],
   "source": [
    "#Simulate the circuit\n",
    "#Should always return |000> for any constant function\n",
    "simulator = cirq.Simulator()\n",
    "result = simulator.run(djc,repetitions=20)\n",
    "print('Results:')\n",
    "print(result)"
   ]
  },
  {
   "cell_type": "code",
   "execution_count": 22,
   "metadata": {},
   "outputs": [
    {
     "name": "stdout",
     "output_type": "stream",
     "text": [
      "Circuit:\n",
      "0: ───H───────\n",
      "\n",
      "1: ───H───────\n",
      "\n",
      "2: ───H───────\n",
      "\n",
      "3: ───X───H───\n"
     ]
    }
   ],
   "source": [
    "#Balanced function f(q0,q1,q2) = q0XORq1XORq2\n",
    "#The qubits\n",
    "qubsB = cirq.LineQubit.range(n+1) #q0 = qubs[0], q1 = qubs[1], etc...\n",
    "\n",
    "#The circuit\n",
    "djcB = cirq.Circuit()\n",
    "\n",
    "#Apply X gate to last cubit to make it |1> instead of |0>\n",
    "djcB.append(X(qubsB[n]))\n",
    "\n",
    "#Apply H gates to all cubits\n",
    "for i in range(n+1):\n",
    "    djcB.append(H(qubsB[i]))\n",
    "    \n",
    "print(\"Circuit:\")\n",
    "print(djcB)"
   ]
  },
  {
   "cell_type": "code",
   "execution_count": 23,
   "metadata": {},
   "outputs": [
    {
     "name": "stdout",
     "output_type": "stream",
     "text": [
      "Circuit:\n",
      "0: ───H───────@───────────\n",
      "              │\n",
      "1: ───H───────┼───@───────\n",
      "              │   │\n",
      "2: ───H───────┼───┼───@───\n",
      "              │   │   │\n",
      "3: ───X───H───X───X───X───\n"
     ]
    }
   ],
   "source": [
    "#Uf operator: CNOT gates on q3 with q0,q1, and q2 as control gates\n",
    "#Add the Uf operator\n",
    "for i in range(n):\n",
    "    djcB.append([CNOT(qubsB[i],qubsB[n])])\n",
    "    \n",
    "print(\"Circuit:\")\n",
    "print(djcB)"
   ]
  },
  {
   "cell_type": "code",
   "execution_count": 24,
   "metadata": {},
   "outputs": [
    {
     "name": "stdout",
     "output_type": "stream",
     "text": [
      "Circuit:\n",
      "0: ───H───────@───H───M('result_bal_0')───────────────────────────────────────────\n",
      "              │\n",
      "1: ───H───────┼───@───H───────────────────M('result_bal_1')───────────────────────\n",
      "              │   │\n",
      "2: ───H───────┼───┼───@───────────────────H───────────────────M('result_bal_2')───\n",
      "              │   │   │\n",
      "3: ───X───H───X───X───X───────────────────────────────────────────────────────────\n"
     ]
    }
   ],
   "source": [
    "#Apply H gates and measurement to first n qubits\n",
    "for i in range(n):\n",
    "    djcB.append([H(qubsB[i]),measure(qubsB[i], key='result_bal_%d'%(i))])\n",
    "    \n",
    "print(\"Circuit:\")\n",
    "print(djcB)"
   ]
  },
  {
   "cell_type": "code",
   "execution_count": 25,
   "metadata": {},
   "outputs": [
    {
     "name": "stdout",
     "output_type": "stream",
     "text": [
      "Results:\n",
      "result_bal_0=11111111111111111111\n",
      "result_bal_1=11111111111111111111\n",
      "result_bal_2=11111111111111111111\n"
     ]
    }
   ],
   "source": [
    "#Simulate the circuit\n",
    "#Should not get |000> for a balanced function\n",
    "result = simulator.run(djcB,repetitions=20)\n",
    "print('Results:')\n",
    "print(result)"
   ]
  },
  {
   "cell_type": "code",
   "execution_count": null,
   "metadata": {},
   "outputs": [],
   "source": []
  }
 ],
 "metadata": {
  "kernelspec": {
   "display_name": "Python 3",
   "language": "python",
   "name": "python3"
  },
  "language_info": {
   "codemirror_mode": {
    "name": "ipython",
    "version": 3
   },
   "file_extension": ".py",
   "mimetype": "text/x-python",
   "name": "python",
   "nbconvert_exporter": "python",
   "pygments_lexer": "ipython3",
   "version": "3.8.5"
  }
 },
 "nbformat": 4,
 "nbformat_minor": 4
}
