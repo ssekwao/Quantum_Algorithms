{
 "cells": [
  {
   "cell_type": "markdown",
   "metadata": {},
   "source": [
    "# Grover's Algorithm\n",
    "\n",
    "Implementation of Grover's algorithm <a name=\"ref-1\"/>[(Grover, 1996)](#cite-Grover) using __[Cirq](https://quantumai.google/cirq)__. The marked state in this example is the 5 qubit state vector $\\left| w \\right\\rangle = \\left| 10000 \\right\\rangle$, and the operators $U_w$ and $U_s$ are implemented as in the paper by Figgatt. et al <a name=\"ref-2\"/>[(Figgatt et al., 2017)](#cite-Figgatt_2017)."
   ]
  },
  {
   "cell_type": "code",
   "execution_count": 2,
   "metadata": {},
   "outputs": [],
   "source": [
    "import math,random\n",
    "import numpy as np\n",
    "import cirq\n",
    "import statistics\n",
    "from statistics import mode\n",
    "from cirq import H, X, Z, CNOT, S,measure"
   ]
  },
  {
   "cell_type": "code",
   "execution_count": 10,
   "metadata": {},
   "outputs": [
    {
     "name": "stdout",
     "output_type": "stream",
     "text": [
      "Number of iterations required = 4\n",
      "\n",
      "Circuit:\n",
      "0: ───H───\n",
      "\n",
      "1: ───H───\n",
      "\n",
      "2: ───H───\n",
      "\n",
      "3: ───H───\n",
      "\n",
      "4: ───H───\n"
     ]
    }
   ],
   "source": [
    "n = 5 #Number of qubits\n",
    "\n",
    "#Number of iterations required for general n = pi*sqrt(2**n)/4 - 1/2\n",
    "Nit = math.ceil((np.pi*np.sqrt(2**n)/4 - 0.5))\n",
    "print('Number of iterations required = %d\\n'%(Nit))\n",
    "\n",
    "qbs = cirq.LineQubit.range(n) #Qubits\n",
    "qc = cirq.Circuit()\n",
    "\n",
    "#Intial state |s> = |+++>\n",
    "#Apply H gate to all qubits\n",
    "for i in range(n):\n",
    "    qc.append(H(qbs[i]))\n",
    "    \n",
    "print(\"Circuit:\")\n",
    "print(qc)"
   ]
  },
  {
   "cell_type": "code",
   "execution_count": 11,
   "metadata": {},
   "outputs": [],
   "source": [
    "#Oracle\n",
    "#Uw = I - 2|w><w|\n",
    "#|w> = |10000>\n",
    "\n",
    "#Function to add Oracle\n",
    "def AddOracle(QC):\n",
    "    for i in range(1,n):\n",
    "        QC.append(X(qbs[i]))\n",
    "    \n",
    "    QC.append(Z(qbs[0]).controlled_by(qbs[1],qbs[2],qbs[3],qbs[4]))\n",
    "    for i in range(1,n):\n",
    "        QC.append(X(qbs[i]))\n",
    "\n",
    "\n",
    "#Amplification: Us = 2|s><s| - I\n",
    "#|s> = |+++>\n",
    "#Add amplification as implemented in the paper\n",
    "#Function to add amplification\n",
    "def AddAmpl(QC):\n",
    "    for i in range(n):\n",
    "        QC.append([H(qbs[i]),X(qbs[i])])\n",
    "    \n",
    "    QC.append(Z(qbs[0]).controlled_by(qbs[1],qbs[2],qbs[3],qbs[4]))\n",
    "    \n",
    "    for i in range(n):\n",
    "        qc.append([X(qbs[i]),H(qbs[i])])"
   ]
  },
  {
   "cell_type": "code",
   "execution_count": 12,
   "metadata": {},
   "outputs": [
    {
     "name": "stdout",
     "output_type": "stream",
     "text": [
      "Circuit:\n",
      "0: ───H───────Z───H───X───────Z───X───H───────Z───H───X───────Z───X───H───────Z───H───X───────Z───X───H───────Z───H───X───────Z───X───H───\n",
      "              │               │               │               │               │               │               │               │\n",
      "1: ───H───X───@───X───H───X───@───X───H───X───@───X───H───X───@───X───H───X───@───X───H───X───@───X───H───X───@───X───H───X───@───X───H───\n",
      "              │               │               │               │               │               │               │               │\n",
      "2: ───H───X───@───X───H───X───@───X───H───X───@───X───H───X───@───X───H───X───@───X───H───X───@───X───H───X───@───X───H───X───@───X───H───\n",
      "              │               │               │               │               │               │               │               │\n",
      "3: ───H───X───@───X───H───X───@───X───H───X───@───X───H───X───@───X───H───X───@───X───H───X───@───X───H───X───@───X───H───X───@───X───H───\n",
      "              │               │               │               │               │               │               │               │\n",
      "4: ───H───X───@───X───H───X───@───X───H───X───@───X───H───X───@───X───H───X───@───X───H───X───@───X───H───X───@───X───H───X───@───X───H───\n"
     ]
    }
   ],
   "source": [
    "#Apply (UsUw) Nit times\n",
    "for i in range(Nit):\n",
    "    AddOracle(qc)\n",
    "    AddAmpl(qc)\n",
    "\n",
    "\n",
    "print(\"Circuit:\")\n",
    "print(qc)"
   ]
  },
  {
   "cell_type": "code",
   "execution_count": 13,
   "metadata": {},
   "outputs": [
    {
     "name": "stdout",
     "output_type": "stream",
     "text": [
      "measurements: (no measurements)\n",
      "output vector: [-0.00513591+0.j -0.00513581+0.j -0.00513582+0.j -0.00513584+0.j\n",
      " -0.00513582+0.j -0.00513584+0.j -0.00513578+0.j -0.00513586+0.j\n",
      " -0.00513585+0.j -0.00513581+0.j -0.00513582+0.j -0.00513586+0.j\n",
      " -0.00513582+0.j -0.00513586+0.j -0.00513585+0.j -0.00513581+0.j\n",
      "  0.99959046+0.j -0.00513593+0.j -0.00513577+0.j -0.00513583+0.j\n",
      " -0.0051358 +0.j -0.00513587+0.j -0.00513574+0.j -0.0051358 +0.j\n",
      " -0.00513588+0.j -0.00513585+0.j -0.00513582+0.j -0.00513582+0.j\n",
      " -0.00513582+0.j -0.00513585+0.j -0.00513582+0.j -0.00513582+0.j]\n"
     ]
    }
   ],
   "source": [
    "#Final state vector before measurement\n",
    "simulator = cirq.Simulator()\n",
    "Order_List = [qbs[i] for i in range(n)] #Order list for the results\n",
    "result = simulator.simulate(qc, qubit_order=Order_List)\n",
    "print(result)"
   ]
  },
  {
   "cell_type": "code",
   "execution_count": 14,
   "metadata": {},
   "outputs": [],
   "source": [
    "#Add measurement\n",
    "qc.append(measure(qbs[0],qbs[1],qbs[2],qbs[3],qbs[4],key='Result'))\n",
    "\n",
    "#print(\"Circuit:\")\n",
    "#print(qc)"
   ]
  },
  {
   "cell_type": "code",
   "execution_count": 15,
   "metadata": {},
   "outputs": [
    {
     "name": "stdout",
     "output_type": "stream",
     "text": [
      "measurements: Result=10000\n",
      "output vector: |10000⟩\n",
      "Counter({16: 99909, 28: 6, 22: 6, 4: 6, 27: 5, 8: 5, 2: 5, 0: 4, 29: 4, 18: 4, 17: 4, 19: 3, 9: 3, 14: 3, 3: 3, 11: 3, 21: 3, 5: 3, 20: 3, 10: 2, 31: 2, 15: 2, 30: 2, 6: 2, 13: 2, 24: 1, 1: 1, 7: 1, 23: 1, 25: 1, 26: 1})\n"
     ]
    }
   ],
   "source": [
    "#Simulate the circuit\n",
    "results = simulator.simulate(qc, qubit_order=Order_List)\n",
    "print(results)\n",
    "\n",
    "#Just 3 queries of the oracle will reveal 16 = |10000>\n",
    "samples=simulator.run(qc,repetitions=100000)\n",
    "print(samples.histogram(key='Result'))"
   ]
  },
  {
   "cell_type": "markdown",
   "metadata": {},
   "source": [
    "<!--bibtex\n",
    "\n",
    "@book{MikeIke,\n",
    "    title = {Quantum Computation and Quantum Information},\n",
    "    author = {Nielsen, Michael A. and Chuang, Issac L},\n",
    "    year = {2010},\n",
    "    publisher = {Cambridge University Press}\n",
    "}\n",
    "\n",
    "@article{Grover,\n",
    "   title={A fast quantum mechanical algorithm for database search},\n",
    "   url={https://arxiv.org/abs/quant-ph/9605043},\n",
    "   DOI={10.1145/237814.237866},\n",
    "   journal={Proceedings of the 28th Annual ACM Symposium on the Theory of Computing (STOC 1996)},\n",
    "   author={Grover, Love K.},\n",
    "   year={1996},\n",
    "   month={July}\n",
    "}\n",
    "\n",
    "@article{Figgatt_2017,\n",
    "   title={Complete 3-Qubit Grover search on a programmable quantum computer},\n",
    "   volume={8},\n",
    "   ISSN={2041-1723},\n",
    "   url={http://dx.doi.org/10.1038/s41467-017-01904-7},\n",
    "   DOI={10.1038/s41467-017-01904-7},\n",
    "   number={1},\n",
    "   journal={Nature Communications},\n",
    "   publisher={Springer Science and Business Media LLC},\n",
    "   author={Figgatt, C. and Maslov, D. and Landsman, K. A. and Linke, N. M. and Debnath, S. and Monroe, C.},\n",
    "   year={2017},\n",
    "   month={Dec}\n",
    "}\n",
    "\n",
    "-->"
   ]
  },
  {
   "cell_type": "code",
   "execution_count": null,
   "metadata": {},
   "outputs": [],
   "source": []
  },
  {
   "cell_type": "markdown",
   "metadata": {},
   "source": [
    "# References\n",
    "\n",
    "<a name=\"cite-Grover\"/><sup>[^](#ref-1) </sup>Grover, Love K.. 1996. _A fast quantum mechanical algorithm for database search_. [URL](https://arxiv.org/abs/quant-ph/9605043)\n",
    "\n",
    "<a name=\"cite-Figgatt_2017\"/><sup>[^](#ref-2) </sup>Figgatt, C. and Maslov, D. and Landsman, K. A. and Linke, N. M. and Debnath, S. and Monroe, C.. 2017. _Complete 3-Qubit Grover search on a programmable quantum computer_. [URL](http://dx.doi.org/10.1038/s41467-017-01904-7)\n",
    "\n"
   ]
  }
 ],
 "metadata": {
  "kernelspec": {
   "display_name": "Python 3",
   "language": "python",
   "name": "python3"
  },
  "language_info": {
   "codemirror_mode": {
    "name": "ipython",
    "version": 3
   },
   "file_extension": ".py",
   "mimetype": "text/x-python",
   "name": "python",
   "nbconvert_exporter": "python",
   "pygments_lexer": "ipython3",
   "version": "3.8.5"
  }
 },
 "nbformat": 4,
 "nbformat_minor": 4
}
