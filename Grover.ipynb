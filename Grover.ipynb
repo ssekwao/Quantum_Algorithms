{
 "cells": [
  {
   "cell_type": "code",
   "execution_count": 1,
   "metadata": {},
   "outputs": [],
   "source": [
    "#Grover's Algorithm\n",
    "#Samwel Sekwao\n",
    "#05/21/2021\n",
    "\n",
    "#Implementation of the paper by Figgatt et. al"
   ]
  },
  {
   "cell_type": "code",
   "execution_count": 2,
   "metadata": {},
   "outputs": [],
   "source": [
    "import random\n",
    "import numpy as np\n",
    "import cirq\n",
    "import statistics\n",
    "from statistics import mode\n",
    "from cirq import H, X, CNOT, S,measure"
   ]
  },
  {
   "cell_type": "code",
   "execution_count": 40,
   "metadata": {},
   "outputs": [
    {
     "name": "stdout",
     "output_type": "stream",
     "text": [
      "Number of iterations required = 1\n",
      "\n",
      "Circuit:\n",
      "0: ───H───\n",
      "\n",
      "1: ───H───\n",
      "\n",
      "2: ───H───\n"
     ]
    }
   ],
   "source": [
    "n = 3 #Number of qubits\n",
    "#Number of iterations required for general n = pi*sqrt(2**n)/4 - 1/2\n",
    "T = int(np.pi*np.sqrt(2**3)/4 - 0.5)\n",
    "print('Number of iterations required = %d\\n'%(T))\n",
    "\n",
    "qbs = cirq.LineQubit.range(n) #Qubits\n",
    "qc = cirq.Circuit()\n",
    "\n",
    "#Intial state |s> = |+++>\n",
    "#Apply H gate to all qubits\n",
    "for i in range(n):\n",
    "    qc.append(H(qbs[i]))\n",
    "    \n",
    "print(\"Circuit:\")\n",
    "print(qc)"
   ]
  },
  {
   "cell_type": "code",
   "execution_count": 41,
   "metadata": {},
   "outputs": [
    {
     "name": "stdout",
     "output_type": "stream",
     "text": [
      "Circuit:\n",
      "0: ───H───Z───Z───\n",
      "          │   │\n",
      "1: ───H───@───┼───\n",
      "              │\n",
      "2: ───H───────@───\n"
     ]
    }
   ],
   "source": [
    "#Oracle: Uw I - 2|w><w|\n",
    "#Oracle will be for the states |w1> = |110> and |w2> = |101>\n",
    "#Uw|w1> = -|w1>\n",
    "#Uw|w2> = -|w2>\n",
    "#Add Oracle implemented in the paper\n",
    "for i in range(1,n):\n",
    "    qc.append(cirq.Z(qbs[0]).controlled_by(qbs[i]))\n",
    "    \n",
    "print(\"Circuit:\")\n",
    "print(qc)"
   ]
  },
  {
   "cell_type": "code",
   "execution_count": 42,
   "metadata": {},
   "outputs": [
    {
     "name": "stdout",
     "output_type": "stream",
     "text": [
      "Circuit:\n",
      "              ┌──┐\n",
      "0: ───H───Z────Z─────H───X───Z───\n",
      "          │    │             │\n",
      "1: ───H───@────┼H────X───────@───\n",
      "               │             │\n",
      "2: ───H────────@─────H───X───@───\n",
      "              └──┘\n"
     ]
    }
   ],
   "source": [
    "#Amplification: Us = 2|s><s| - I\n",
    "#|s> = |+++>\n",
    "#Add amplification implemented in the paper\n",
    "for i in range(n):\n",
    "    qc.append([H(qbs[i]),X(qbs[i])])\n",
    "    \n",
    "qc.append(cirq.Z(qbs[0]).controlled_by(qbs[1],qbs[2]))\n",
    "\n",
    "print(\"Circuit:\")\n",
    "print(qc)"
   ]
  },
  {
   "cell_type": "code",
   "execution_count": 43,
   "metadata": {},
   "outputs": [
    {
     "name": "stdout",
     "output_type": "stream",
     "text": [
      "Circuit:\n",
      "              ┌──┐\n",
      "0: ───H───Z────Z─────H───X───Z───X───H───\n",
      "          │    │             │\n",
      "1: ───H───@────┼H────X───────@───X───H───\n",
      "               │             │\n",
      "2: ───H────────@─────H───X───@───X───H───\n",
      "              └──┘\n"
     ]
    }
   ],
   "source": [
    "#Add X, and H to each qubit\n",
    "for i in range(n):\n",
    "    qc.append([X(qbs[i]),H(qbs[i])])\n",
    "\n",
    "print(\"Circuit:\")\n",
    "print(qc)"
   ]
  },
  {
   "cell_type": "code",
   "execution_count": 44,
   "metadata": {},
   "outputs": [
    {
     "name": "stdout",
     "output_type": "stream",
     "text": [
      "measurements: (no measurements)\n",
      "output vector: -0.707|101⟩ - 0.707|110⟩\n"
     ]
    }
   ],
   "source": [
    "#Final state vector before measurement\n",
    "#Final state vector should be (|110> + |101>)/sqrt(2)\n",
    "simulator = cirq.Simulator()\n",
    "result = simulator.simulate(qc, qubit_order=[qbs[0], qbs[1],qbs[2]])\n",
    "print(result)"
   ]
  },
  {
   "cell_type": "code",
   "execution_count": 45,
   "metadata": {},
   "outputs": [
    {
     "name": "stdout",
     "output_type": "stream",
     "text": [
      "Circuit:\n",
      "              ┌──┐\n",
      "0: ───H───Z────Z─────H───X───Z───X───H───M('Result')───\n",
      "          │    │             │           │\n",
      "1: ───H───@────┼H────X───────@───X───H───M─────────────\n",
      "               │             │           │\n",
      "2: ───H────────@─────H───X───@───X───H───M─────────────\n",
      "              └──┘\n"
     ]
    }
   ],
   "source": [
    "#Add measurement\n",
    "qc.append(measure(qbs[0],qbs[1],qbs[2],key='Result'))\n",
    "\n",
    "print(\"Circuit:\")\n",
    "print(qc)"
   ]
  },
  {
   "cell_type": "code",
   "execution_count": 46,
   "metadata": {},
   "outputs": [
    {
     "name": "stdout",
     "output_type": "stream",
     "text": [
      "measurements: Result=110\n",
      "output vector: -1|110⟩\n",
      "Counter({6: 25072, 5: 24928})\n"
     ]
    }
   ],
   "source": [
    "#Simulate the circuit\n",
    "Order_List = [qbs[i] for i in range(n)] #Order list for the results\n",
    "simulator = cirq.Simulator()\n",
    "results = simulator.simulate(qc, qubit_order=Order_List)\n",
    "print(results)\n",
    "\n",
    "#Just 1 query of the oracle will reveal 5 = |101> or 6 = |110> \n",
    "samples=simulator.run(qc,repetitions=50000)\n",
    "print(samples.histogram(key='Result'))"
   ]
  },
  {
   "cell_type": "code",
   "execution_count": null,
   "metadata": {},
   "outputs": [],
   "source": []
  }
 ],
 "metadata": {
  "kernelspec": {
   "display_name": "Python 3",
   "language": "python",
   "name": "python3"
  },
  "language_info": {
   "codemirror_mode": {
    "name": "ipython",
    "version": 3
   },
   "file_extension": ".py",
   "mimetype": "text/x-python",
   "name": "python",
   "nbconvert_exporter": "python",
   "pygments_lexer": "ipython3",
   "version": "3.8.5"
  }
 },
 "nbformat": 4,
 "nbformat_minor": 4
}
