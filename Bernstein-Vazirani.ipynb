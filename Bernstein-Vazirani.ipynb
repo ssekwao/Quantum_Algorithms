{
 "cells": [
  {
   "cell_type": "markdown",
   "metadata": {},
   "source": [
    "##   Bernstein-Vazirani Algorithm\n",
    "Implementation of Bernstein-Vazirani algorithm <a name=\"ref-1\"/>[(Bernstein and Vazirani, 1997)](#cite-BV) using __[Cirq](https://quantumai.google/cirq)__."
   ]
  },
  {
   "cell_type": "code",
   "execution_count": 1,
   "metadata": {},
   "outputs": [],
   "source": [
    "#Bernstein-Vazirani Algorithm"
   ]
  },
  {
   "cell_type": "code",
   "execution_count": 2,
   "metadata": {},
   "outputs": [],
   "source": [
    "import random\n",
    "\n",
    "import cirq\n",
    "from cirq import H, X, CNOT, measure"
   ]
  },
  {
   "cell_type": "code",
   "execution_count": 3,
   "metadata": {},
   "outputs": [
    {
     "name": "stdout",
     "output_type": "stream",
     "text": [
      "Circuit:\n",
      "0: ───H───────\n",
      "\n",
      "1: ───H───────\n",
      "\n",
      "2: ───H───────\n",
      "\n",
      "3: ───X───H───\n"
     ]
    }
   ],
   "source": [
    "n = 3 #Measurement qubits\n",
    "\n",
    "#The qubits\n",
    "qbs = cirq.LineQubit.range(n+1) #q0 = qubs[0], q1 = qubs[1], etc...\n",
    "\n",
    "#The circuit\n",
    "#Similar to DJ algorithm\n",
    "bvc = cirq.Circuit()\n",
    "\n",
    "#Apply X gate to last cubit to make it |1> instead of |0>\n",
    "bvc.append(X(qbs[n]))\n",
    "\n",
    "#Apply H gates to all cubits\n",
    "for i in range(n+1):\n",
    "    bvc.append(H(qbs[i]))\n",
    "    \n",
    "print(\"Circuit:\")\n",
    "print(bvc)"
   ]
  },
  {
   "cell_type": "code",
   "execution_count": 4,
   "metadata": {},
   "outputs": [
    {
     "name": "stdout",
     "output_type": "stream",
     "text": [
      "Circuit:\n",
      "0: ───H───────@───────\n",
      "              │\n",
      "1: ───H───────┼───@───\n",
      "              │   │\n",
      "2: ───H───────┼───┼───\n",
      "              │   │\n",
      "3: ───X───H───X───X───\n"
     ]
    }
   ],
   "source": [
    "#This algorithm is for |a> = |110>\n",
    "#Uf associated with |a> : CNOT gates on q3 with controls on q0 and q1\n",
    "#Add Uf\n",
    "bvc.append(CNOT(qbs[0],qbs[n]))\n",
    "bvc.append(CNOT(qbs[1],qbs[n]))\n",
    "           \n",
    "print(\"Circuit:\")\n",
    "print(bvc)"
   ]
  },
  {
   "cell_type": "code",
   "execution_count": 5,
   "metadata": {},
   "outputs": [
    {
     "name": "stdout",
     "output_type": "stream",
     "text": [
      "Circuit:\n",
      "              ┌──────────────┐\n",
      "0: ───H────────@─────────────────H───M('result_0')───────────────────\n",
      "               │\n",
      "1: ───H────────┼─────────────────@───H───────────────M('result_1')───\n",
      "               │                 │\n",
      "2: ───H───H────┼M('result_2')────┼───────────────────────────────────\n",
      "               │                 │\n",
      "3: ───X───H────X─────────────────X───────────────────────────────────\n",
      "              └──────────────┘\n"
     ]
    }
   ],
   "source": [
    "#Apply H gates and measurement to first n qubits\n",
    "for i in range(n):\n",
    "    bvc.append([H(qbs[i]),measure(qbs[i], key='result_%d'%(i))])\n",
    "    \n",
    "print(\"Circuit:\")\n",
    "print(bvc)"
   ]
  },
  {
   "cell_type": "code",
   "execution_count": 6,
   "metadata": {},
   "outputs": [
    {
     "name": "stdout",
     "output_type": "stream",
     "text": [
      "Results:\n",
      "result_0=11111111111111111111\n",
      "result_1=11111111111111111111\n",
      "result_2=00000000000000000000\n"
     ]
    }
   ],
   "source": [
    "#Simulate the circuit\n",
    "#Should always get |a> = |110> \n",
    "simulator = cirq.Simulator()\n",
    "result = simulator.run(bvc,repetitions=20)\n",
    "print('Results:')\n",
    "print(result)"
   ]
  },
  {
   "cell_type": "markdown",
   "metadata": {},
   "source": [
    "<!--bibtex\n",
    "\n",
    "@book{MikeIke,\n",
    "    title = {Quantum Computation and Quantum Information},\n",
    "    author = {Nielsen, Michael A. and Chuang, Issac L},\n",
    "    year = {2010},\n",
    "    publisher = {Cambridge University Press}\n",
    "}\n",
    "\n",
    "@article{BV,\n",
    "    author = {Bernstein, Ethan and Vazirani, Umesh},\n",
    "    title = {Quantum Complexity Theory},\n",
    "    journal = {SIAM Journal on Computing},\n",
    "    volume = {26},\n",
    "    number = {5},\n",
    "    pages = {1411-1473},\n",
    "    year = {1997},\n",
    "    DOI = {10.1137/S0097539796300921},\n",
    "    url = {https://doi.org/10.1137/S0097539796300921},\n",
    "    eprint = {https://doi.org/10.1137/S0097539796300921}\n",
    "\n",
    "}\n",
    "\n",
    "-->"
   ]
  },
  {
   "cell_type": "markdown",
   "metadata": {},
   "source": [
    "# References\n",
    "\n",
    "<a name=\"cite-BV\"/><sup>[^](#ref-1) </sup>Bernstein, Ethan and Vazirani, Umesh. 1997. _Quantum Complexity Theory_. [URL](https://doi.org/10.1137/S0097539796300921)\n",
    "\n"
   ]
  }
 ],
 "metadata": {
  "kernelspec": {
   "display_name": "Python 3",
   "language": "python",
   "name": "python3"
  },
  "language_info": {
   "codemirror_mode": {
    "name": "ipython",
    "version": 3
   },
   "file_extension": ".py",
   "mimetype": "text/x-python",
   "name": "python",
   "nbconvert_exporter": "python",
   "pygments_lexer": "ipython3",
   "version": "3.8.5"
  }
 },
 "nbformat": 4,
 "nbformat_minor": 4
}
