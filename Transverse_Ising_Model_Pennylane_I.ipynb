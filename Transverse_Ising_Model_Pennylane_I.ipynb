{
 "cells": [
  {
   "cell_type": "markdown",
   "metadata": {},
   "source": [
    "# Transverse Ising Model\n",
    "\n",
    "The hamiltonian for the 1D transverse Ising model is given by \n",
    "\\begin{equation}\n",
    "\\mathcal{H} = -\\Gamma\\sum_{i=1}^{N}S_{i}^{z} - J\\sum_{i=1}^{N}S_{i}^{x}S_{i+1}^{x} ,\n",
    "\\end{equation}\n",
    "\n",
    "where $\\Gamma$ is the tunneling energy, $S^{x}$ and $S^{z}$ are spin $1/2$ operators, and $J$ is the interaction parameter <a name=\"ref-1\"/>[(Pfeuty, 1970)](#cite-Pfeuty). In units of $J = 1$, and $\\hbar = 1$, the above hamiltonian can be simplified to\n",
    "\n",
    "\\begin{equation}\n",
    "\\mathcal{H} = -\\frac{g}{2}\\sum_{i=1}^{N}\\sigma_{i}^{z} - \\frac{1}{4}\\sum_{i=1}^{N}\\sigma_{i}^{x}\\sigma_{i+1}^{x} ,\n",
    "\\end{equation}\n",
    "\n",
    "where $\\sigma^z$ and $\\sigma^x$ are Pauli matrices. In this example, the variational quantum eigensolver (VQE) approach is used to calculate the ground state energy of the hamiltonian above for different values of $g$. The results are the compared to the exact solution <a name=\"ref-2\"/>[(Pfeuty, 1970)](#cite-Pfeuty). Note that a similar problem is discussed in <a name=\"ref-3\"/>[(Coles, 2018)](#cite-Coles2018QuantumAI).\n",
    "Implementation using __[Pennylane](https://pennylane.ai/)__."
   ]
  },
  {
   "cell_type": "code",
   "execution_count": 1,
   "metadata": {},
   "outputs": [],
   "source": [
    "import pennylane as qml\n",
    "from pennylane import numpy as np #Always import numpy from pennylane\n",
    "import matplotlib.pyplot as plt"
   ]
  },
  {
   "cell_type": "code",
   "execution_count": 3,
   "metadata": {},
   "outputs": [
    {
     "name": "stdout",
     "output_type": "stream",
     "text": [
      "0.94908809667625\n"
     ]
    }
   ],
   "source": [
    "n = 4 #Number of qubits\n",
    "\n",
    "#Construct a QNode\n",
    "#Initialize device\n",
    "qcdev = qml.device(\"default.qubit\", wires=n)\n",
    "@qml.qnode(qcdev)\n",
    "def Circuit(theta,g,Wires):\n",
    "    \n",
    "    theta = theta.reshape((n,3))\n",
    "\n",
    "    #Prepare initial state\n",
    "    #Apply U3(theta[j]) to qubit j\n",
    "    for j in range(n):\n",
    "        qml.U3(theta[j,0], theta[j,1], theta[j,2], wires=j)\n",
    "     \n",
    "    indx = Wires[0]\n",
    "    if g > 0.0:\n",
    "        return qml.expval(qml.PauliZ(indx))\n",
    "    \n",
    "    else:\n",
    "        if indx < n - 1:\n",
    "            return qml.expval(qml.PauliX(indx) @ qml.PauliX(indx+1))\n",
    "        else:\n",
    "            return qml.expval(qml.PauliX(indx) @ qml.PauliX(0))\n",
    "\n",
    "        \n",
    "#Test the Circuit function\n",
    "theta = np.random.rand(3*n)\n",
    "wires = [3]\n",
    "print(Circuit(theta,1.0,Wires=wires))"
   ]
  },
  {
   "cell_type": "code",
   "execution_count": 4,
   "metadata": {},
   "outputs": [
    {
     "name": "stdout",
     "output_type": "stream",
     "text": [
      "-0.470961042393949\n"
     ]
    }
   ],
   "source": [
    "#Objective function to optimize\n",
    "def Cost(theta,gg):\n",
    "\n",
    "    exp = 0.0\n",
    "    for i in range(n):\n",
    "        wrs = [i]\n",
    "        exp -= 0.25*Circuit(theta,0.0,Wires=wrs)\n",
    "        if gg > 0.0:\n",
    "            exp -= 0.5*gg*Circuit(theta,gg,Wires=wrs)\n",
    "            \n",
    "    return exp/n \n",
    "\n",
    "#Test the Cost function\n",
    "theta = np.random.rand(3*n)\n",
    "print(Cost(theta,1.0))"
   ]
  },
  {
   "cell_type": "code",
   "execution_count": 5,
   "metadata": {},
   "outputs": [
    {
     "name": "stdout",
     "output_type": "stream",
     "text": [
      "-0.25\n"
     ]
    }
   ],
   "source": [
    "#Exact solution\n",
    "#Returns Eg/n for a given g\n",
    "#See Pfeuty's paper\n",
    "st = int(n/2)\n",
    "def Exact_Ising(x):\n",
    "    tot = 0.0\n",
    "    for m in range(-st,st):\n",
    "        tot -= np.sqrt(0.25 + (x**2) + x*np.cos(2*np.pi*m/n))\n",
    "        \n",
    "    return 0.5*tot/n\n",
    "\n",
    "print(Exact_Ising(0.0))"
   ]
  },
  {
   "cell_type": "code",
   "execution_count": 6,
   "metadata": {},
   "outputs": [
    {
     "name": "stdout",
     "output_type": "stream",
     "text": [
      "\n",
      "Final parameters:\n",
      "[1.56697461e+00 2.81954855e-03 1.00222706e+00 1.57026996e+00\n",
      " 1.63790607e-03 1.77626897e+00 1.56889846e+00 5.64338858e-03\n",
      " 1.68670102e+00 1.56571541e+00 3.76422607e-03 8.64900426e-01]\n",
      "\n",
      "g = 0.000, Eg_sim/n = -0.2499937, Eg_exact/n = -0.2500000\n",
      "\n"
     ]
    }
   ],
   "source": [
    "#Optimization\n",
    "#Initialize optimizer\n",
    "opt = qml.GradientDescentOptimizer(stepsize=0.25)\n",
    "\n",
    "nsteps = 200 # number of steps\n",
    "Theta0 = 2*np.random.rand(3*n) #Initial guess for theta\n",
    "\n",
    "\n",
    "#Calculating the ground state energy for g = 0.0\n",
    "gg = 0.0\n",
    "EXP = np.zeros(nsteps)\n",
    "exact = Exact_Ising(gg)\n",
    "EXACT = exact*np.ones(nsteps)\n",
    "\n",
    "params = Theta0\n",
    "for i in range(nsteps):\n",
    "    ## update parameters\n",
    "    params = opt.step(lambda params:Cost(params,gg), params) #Need to have a function of only one parameter in this step\n",
    "    \n",
    "    EXP[i] = Cost(params,gg)\n",
    "\n",
    "print(\"\\nFinal parameters:\")\n",
    "print(params)\n",
    "sim = Cost(params,gg)\n",
    "print(\"\\ng = %0.3f, Eg_sim/n = %0.7f, Eg_exact/n = %0.7f\\n\"%(gg,sim,exact))"
   ]
  },
  {
   "cell_type": "code",
   "execution_count": 7,
   "metadata": {},
   "outputs": [
    {
     "data": {
      "image/png": "[encoded data removed]",
      "text/plain": [
       "<Figure size 432x288 with 1 Axes>"
      ]
     },
     "metadata": {
      "needs_background": "light"
     },
     "output_type": "display_data"
    }
   ],
   "source": [
    "#<H> vs iteration\n",
    "#Plot the results for g = 0.0\n",
    "plt.plot(EXP)\n",
    "plt.plot(EXACT,color='k',linestyle='--',label='Exact value')\n",
    "plt.xlabel('Iteration')\n",
    "plt.ylabel('<H>')\n",
    "plt.xlim(0,nsteps)\n",
    "plt.title('g = %0.1f'%(gg))\n",
    "plt.legend(loc='best')\n",
    "plt.show()"
   ]
  },
  {
   "cell_type": "code",
   "execution_count": 10,
   "metadata": {},
   "outputs": [],
   "source": [
    "#Calculating the ground state energy for different values of g\n",
    "Gs = [0.3*i for i in range(11)] #g values\n",
    "SIM = [sim]\n",
    "EXACT = [exact]\n",
    "for gg in Gs:\n",
    "    if gg > 0.0:\n",
    "        params = Theta0\n",
    "        for i in range(nsteps):\n",
    "        \n",
    "            ## update parameters\n",
    "            params = opt.step(lambda params:Cost(params,gg), params) \n",
    "    \n",
    "        SIM.append(Cost(params,gg))\n",
    "        EXACT.append(Exact_Ising(gg))"
   ]
  },
  {
   "cell_type": "code",
   "execution_count": 12,
   "metadata": {},
   "outputs": [
    {
     "data": {
      "image/png": "[encoded data removed]",
      "text/plain": [
       "<Figure size 432x288 with 1 Axes>"
      ]
     },
     "metadata": {
      "needs_background": "light"
     },
     "output_type": "display_data"
    }
   ],
   "source": [
    "#Comparing simulation results to exact values\n",
    "plt.plot(Gs,EXACT,color='r',label='Exact')\n",
    "plt.plot(Gs,SIM,'d',linewidth=2,linestyle='--',color='b',label='Simulation')\n",
    "plt.xlabel('g')\n",
    "plt.ylabel('Eg/N')\n",
    "plt.legend(loc='best')\n",
    "plt.show()"
   ]
  },
  {
   "cell_type": "markdown",
   "metadata": {},
   "source": [
    "<!--bibtex\n",
    "\n",
    "@book{MikeIke,\n",
    "    title = {Quantum Computation and Quantum Information},\n",
    "    author = {Nielsen, Michael A. and Chuang, Issac L},\n",
    "    year = {2010},\n",
    "    publisher = {Cambridge University Press}\n",
    "}\n",
    "\n",
    "@book{Sachdev,\n",
    "    title = {Quantum Phase Transitions},\n",
    "    author = {Sachdev, Subir},\n",
    "    year = {2011},\n",
    "    publisher = {Cambridge University Press}\n",
    "}\n",
    "\n",
    "\n",
    "@article{Coles2018QuantumAI,\n",
    "  title={Quantum Algorithm Implementations for Beginners},\n",
    "  author={Coles, Patrick J. and S. Eidenbenz and S. Pakin and A. Adedoyin and J. Ambrosiano and P. Anisimov \n",
    "          and W. Casper and Gopinath Chennupati and Carleton Coffrin and H. Djidjev and David Gunter and S. Karra \n",
    "          and N. Lemons and Shizeng Lin and A. Lokhov and A. Malyzhenkov and David Mascarenas and S. Mniszewski \n",
    "          and B. Nadiga and D. O'Malley and D. Oyen and Lakshman Prasad and Randy Roberts and P. Romero \n",
    "          and N. Santhi and N. Sinitsyn and P. Swart and Marc Vuffray and J. Wendelberger and B. Yoon \n",
    "          and R. Zamora and W. Zhu},\n",
    "  journal={ArXiv},\n",
    "  year={2018},\n",
    "  volume={abs/1804.03719}\n",
    "}\n",
    "\n",
    "@article{Pfeuty,\n",
    "       author = {Pfeuty, Pierre},\n",
    "        title = {The one-dimensional Ising model with a transverse field},\n",
    "      journal = {Annals of Physics},\n",
    "         year = 1970,\n",
    "        month = mar,\n",
    "       volume = {57},\n",
    "       number = {1},\n",
    "        pages = {79-90},\n",
    "          doi = {10.1016/0003-4916(70)90270-8},\n",
    "       adsurl = {https://ui.adsabs.harvard.edu/abs/1970AnPhy..57...79P},\n",
    "      adsnote = {Provided by the SAO/NASA Astrophysics Data System}\n",
    "}\n",
    "\n",
    "-->"
   ]
  },
  {
   "cell_type": "markdown",
   "metadata": {},
   "source": [
    "# References\n",
    "\n",
    "<a name=\"cite-Pfeuty\"/><sup>[^](#ref-1) [^](#ref-2) </sup>Pfeuty, Pierre. 1970. _The one-dimensional Ising model with a transverse field_.\n",
    "\n",
    "<a name=\"cite-Coles2018QuantumAI\"/><sup>[^](#ref-3) </sup>Coles, Patrick J. and S. Eidenbenz and S. Pakin and A. Adedoyin and J. Ambrosiano and P. Anisimov \n",
    "          and W. Casper and Gopinath Chennupati and Carleton Coffrin and H. Djidjev and David Gunter and S. Karra \n",
    "          and N. Lemons and Shizeng Lin and A. Lokhov and A. Malyzhenkov and David Mascarenas and S. Mniszewski \n",
    "          and B. Nadiga and D. O'Malley and D. Oyen and Lakshman Prasad and Randy Roberts and P. Romero \n",
    "          and N. Santhi and N. Sinitsyn and P. Swart and Marc Vuffray and J. Wendelberger and B. Yoon \n",
    "          and R. Zamora and W. Zhu. 2018. _Quantum Algorithm Implementations for Beginners_.\n",
    "\n"
   ]
  },
  {
   "cell_type": "code",
   "execution_count": null,
   "metadata": {},
   "outputs": [],
   "source": []
  }
 ],
 "metadata": {
  "kernelspec": {
   "display_name": "Python 3",
   "language": "python",
   "name": "python3"
  },
  "language_info": {
   "codemirror_mode": {
    "name": "ipython",
    "version": 3
   },
   "file_extension": ".py",
   "mimetype": "text/x-python",
   "name": "python",
   "nbconvert_exporter": "python",
   "pygments_lexer": "ipython3",
   "version": "3.8.5"
  }
 },
 "nbformat": 4,
 "nbformat_minor": 4
}
