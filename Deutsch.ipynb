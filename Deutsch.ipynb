{
 "cells": [
  {
   "cell_type": "markdown",
   "metadata": {},
   "source": [
    "# Deutsch algorithm\n",
    "Implementation of Deutsch algorithm using __[Cirq](https://quantumai.google/cirq)__."
   ]
  },
  {
   "cell_type": "code",
   "execution_count": 53,
   "metadata": {},
   "outputs": [],
   "source": [
    "#Deutsch's Algorithm\n",
    "#Samwel Sekwao"
   ]
  },
  {
   "cell_type": "code",
   "execution_count": 5,
   "metadata": {},
   "outputs": [],
   "source": [
    "import random\n",
    "\n",
    "import cirq\n",
    "from cirq import H, X, CNOT, measure\n",
    "import numpy as np"
   ]
  },
  {
   "cell_type": "code",
   "execution_count": 47,
   "metadata": {},
   "outputs": [
    {
     "name": "stdout",
     "output_type": "stream",
     "text": [
      "[1 1]\n"
     ]
    }
   ],
   "source": [
    "#Pick random values of f(0) and f(1)\n",
    "#If f(0) = f(1) -> constant function\n",
    "#Else: balanced function\n",
    "#[0,1] -> f(x) = x\n",
    "#[1,0] -> f(x) = xbar\n",
    "Fx = np.random.randint(2,size=2)\n",
    "print(Fx)"
   ]
  },
  {
   "cell_type": "code",
   "execution_count": 48,
   "metadata": {},
   "outputs": [
    {
     "name": "stdout",
     "output_type": "stream",
     "text": [
      "Circuit:\n",
      "0: ───H───────\n",
      "\n",
      "1: ───X───H───\n"
     ]
    }
   ],
   "source": [
    "# The two qubits\n",
    "qbs = cirq.LineQubit.range(2)\n",
    "\n",
    "#Make the circuit\n",
    "dc = cirq.Circuit()\n",
    "dc.append([X(qbs[1]),H(qbs[1]),H(qbs[0])])\n",
    "print(\"Circuit:\")\n",
    "print(dc)"
   ]
  },
  {
   "cell_type": "code",
   "execution_count": 49,
   "metadata": {},
   "outputs": [
    {
     "name": "stdout",
     "output_type": "stream",
     "text": [
      "Circuit:\n",
      "0: ───H───────────\n",
      "\n",
      "1: ───X───H───X───\n"
     ]
    }
   ],
   "source": [
    "#Function that appends the oracle\n",
    "def AddOrc(qc,fun):\n",
    "    if fun[0] == fun[1]: #Constant function\n",
    "        if fun[0] == 1: #f(x) = 1\n",
    "            qc.append([X(qbs[1])])\n",
    "    else:\n",
    "        if fun[0] == 0: #f(x) = x\n",
    "            qc.append([CNOT(qbs[0],qbs[1])])\n",
    "        else:\n",
    "            qc.append([X(qbs[0]),CNOT(qbs[0],qbs[1]),X(qbs[0])]) #f(x) = xbar\n",
    "            \n",
    "\n",
    "AddOrc(dc,Fx)\n",
    "print(\"Circuit:\")\n",
    "print(dc)           "
   ]
  },
  {
   "cell_type": "code",
   "execution_count": 50,
   "metadata": {},
   "outputs": [
    {
     "name": "stdout",
     "output_type": "stream",
     "text": [
      "Circuit:\n",
      "0: ───H───H───M('result')───\n",
      "\n",
      "1: ───X───H───X─────────────\n"
     ]
    }
   ],
   "source": [
    "#Add H gate to 1st qubit and measure it\n",
    "dc.append([H(qbs[0]), measure(qbs[0], key='result')])\n",
    "print(\"Circuit:\")\n",
    "print(dc)"
   ]
  },
  {
   "cell_type": "code",
   "execution_count": 51,
   "metadata": {},
   "outputs": [
    {
     "name": "stdout",
     "output_type": "stream",
     "text": [
      "result=0\n"
     ]
    }
   ],
   "source": [
    "#Simulate the circuit\n",
    "#result = 0 if f(x) is constant\n",
    "#result = 1 if f(x) is balanced\n",
    "simulator = cirq.Simulator()\n",
    "result = simulator.run(dc)\n",
    "print(result)"
   ]
  },
  {
   "cell_type": "code",
   "execution_count": null,
   "metadata": {},
   "outputs": [],
   "source": []
  }
 ],
 "metadata": {
  "kernelspec": {
   "display_name": "Python 3",
   "language": "python",
   "name": "python3"
  },
  "language_info": {
   "codemirror_mode": {
    "name": "ipython",
    "version": 3
   },
   "file_extension": ".py",
   "mimetype": "text/x-python",
   "name": "python",
   "nbconvert_exporter": "python",
   "pygments_lexer": "ipython3",
   "version": "3.8.5"
  }
 },
 "nbformat": 4,
 "nbformat_minor": 4
}
