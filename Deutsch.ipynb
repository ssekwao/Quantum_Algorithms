{
 "cells": [
  {
   "cell_type": "code",
   "execution_count": 1,
   "metadata": {},
   "outputs": [],
   "source": [
    "#Deutsch's Algorithm\n",
    "#Samwel Sekwao\n",
    "#05/19/2021"
   ]
  },
  {
   "cell_type": "code",
   "execution_count": 2,
   "metadata": {},
   "outputs": [],
   "source": [
    "import random\n",
    "\n",
    "import cirq\n",
    "from cirq import H, X, CNOT, measure"
   ]
  },
  {
   "cell_type": "code",
   "execution_count": 29,
   "metadata": {},
   "outputs": [
    {
     "name": "stdout",
     "output_type": "stream",
     "text": [
      "[1, 1]\n"
     ]
    }
   ],
   "source": [
    "#Pick random values of f(0) and f(1)\n",
    "#If f(0) = f(1) -> constant function\n",
    "#Else: balanced function\n",
    "#[0,1] -> f(x) = x\n",
    "#[1,0] -> f(x) = xbar\n",
    "fx = [random.randint(0, 1) for _ in range(2)]\n",
    "print(fx)"
   ]
  },
  {
   "cell_type": "code",
   "execution_count": 30,
   "metadata": {},
   "outputs": [
    {
     "name": "stdout",
     "output_type": "stream",
     "text": [
      "Circuit:\n",
      "0: ───H───────\n",
      "\n",
      "1: ───X───H───\n"
     ]
    }
   ],
   "source": [
    "# The two qubits\n",
    "q0, q1 = cirq.LineQubit.range(2)\n",
    "\n",
    "#Make the circuit\n",
    "dc = cirq.Circuit()\n",
    "dc.append([X(q1),H(q1),H(q0)])\n",
    "print(\"Circuit:\")\n",
    "print(dc)"
   ]
  },
  {
   "cell_type": "code",
   "execution_count": 31,
   "metadata": {},
   "outputs": [
    {
     "name": "stdout",
     "output_type": "stream",
     "text": [
      "Circuit:\n",
      "0: ───H───────────\n",
      "\n",
      "1: ───X───H───X───\n"
     ]
    }
   ],
   "source": [
    "#Function that appends the oracle\n",
    "def AddOrc(qc,fun):\n",
    "    if fun[0] == fun[1]: #Constant function\n",
    "        if fun[0] == 1: #f(x) = 1\n",
    "            qc.append([X(q1)])\n",
    "    else:\n",
    "        if fun[0] == 0: #f(x) = x\n",
    "            qc.append([CNOT(q0,q1)])\n",
    "        else:\n",
    "            qc.append([X(q0),CNOT(q0,q1),X(q0)])\n",
    "            \n",
    "\n",
    "AddOrc(dc,fx)\n",
    "print(\"Circuit:\")\n",
    "print(dc)           "
   ]
  },
  {
   "cell_type": "code",
   "execution_count": 32,
   "metadata": {},
   "outputs": [
    {
     "name": "stdout",
     "output_type": "stream",
     "text": [
      "Circuit:\n",
      "0: ───H───H───M('result')───\n",
      "\n",
      "1: ───X───H───X─────────────\n"
     ]
    }
   ],
   "source": [
    "#Add H gate to 1st qubit and measure it\n",
    "dc.append([H(q0), measure(q0, key='result')])\n",
    "print(\"Circuit:\")\n",
    "print(dc)"
   ]
  },
  {
   "cell_type": "code",
   "execution_count": 33,
   "metadata": {},
   "outputs": [
    {
     "name": "stdout",
     "output_type": "stream",
     "text": [
      "Result of f(0)⊕f(1):\n",
      "result=0\n"
     ]
    }
   ],
   "source": [
    "#Simulate the circuit\n",
    "#result = 0 if f(x) is constant\n",
    "#result = 1 if f(x) is balanced\n",
    "simulator = cirq.Simulator()\n",
    "result = simulator.run(dc)\n",
    "print('Result of f(0)⊕f(1):')\n",
    "print(result)"
   ]
  },
  {
   "cell_type": "code",
   "execution_count": null,
   "metadata": {},
   "outputs": [],
   "source": []
  }
 ],
 "metadata": {
  "kernelspec": {
   "display_name": "Python 3",
   "language": "python",
   "name": "python3"
  },
  "language_info": {
   "codemirror_mode": {
    "name": "ipython",
    "version": 3
   },
   "file_extension": ".py",
   "mimetype": "text/x-python",
   "name": "python",
   "nbconvert_exporter": "python",
   "pygments_lexer": "ipython3",
   "version": "3.8.5"
  }
 },
 "nbformat": 4,
 "nbformat_minor": 4
}
