{
 "cells": [
  {
   "cell_type": "markdown",
   "metadata": {},
   "source": [
    "# Simon's Algorithm\n",
    "Implementation of Simon's algorithm <a name=\"ref-1\"/>[(Simon, 1997)](#cite-Simon) using __[Cirq](https://quantumai.google/cirq)__."
   ]
  },
  {
   "cell_type": "code",
   "execution_count": 2,
   "metadata": {},
   "outputs": [],
   "source": [
    "#Simon's Algorithm\n",
    "#f(x) = f(y) <-> x = y⊕a\n",
    "#Find a\n",
    "#Oracle function: f(|ab>) = |bb>, |a> = |10>. "
   ]
  },
  {
   "cell_type": "code",
   "execution_count": 3,
   "metadata": {},
   "outputs": [],
   "source": [
    "import random\n",
    "\n",
    "import cirq\n",
    "from cirq import H, X, CNOT, measure"
   ]
  },
  {
   "cell_type": "code",
   "execution_count": 4,
   "metadata": {},
   "outputs": [
    {
     "name": "stdout",
     "output_type": "stream",
     "text": [
      "Circuit:\n",
      "0: ───H───\n",
      "\n",
      "1: ───H───\n"
     ]
    }
   ],
   "source": [
    "n = 2 #Total number of qubits = 2*n\n",
    "\n",
    "#The cubits\n",
    "qbs = cirq.LineQubit.range(2*n) #q0 = qubs[0], q1 = qubs[1], etc..\n",
    "\n",
    "#The circuit\n",
    "sc = cirq.Circuit()\n",
    "\n",
    "#Add H gates to the first n qubits\n",
    "for i in range(n):\n",
    "    sc.append(H(qbs[i]))\n",
    "    \n",
    "print(\"Circuit:\")\n",
    "print(sc)"
   ]
  },
  {
   "cell_type": "code",
   "execution_count": 5,
   "metadata": {},
   "outputs": [
    {
     "name": "stdout",
     "output_type": "stream",
     "text": [
      "Circuit:\n",
      "0: ───H───────────\n",
      "\n",
      "1: ───H───@───@───\n",
      "          │   │\n",
      "2: ───────X───┼───\n",
      "              │\n",
      "3: ───────────X───\n"
     ]
    }
   ],
   "source": [
    "#Apply the operator Uf associated with f(x)\n",
    "for i in range(n,2*n):\n",
    "    sc.append(CNOT(qbs[n-1],qbs[i]))\n",
    "    \n",
    "print(\"Circuit:\")\n",
    "print(sc)"
   ]
  },
  {
   "cell_type": "code",
   "execution_count": 6,
   "metadata": {},
   "outputs": [
    {
     "name": "stdout",
     "output_type": "stream",
     "text": [
      "Circuit:\n",
      "              ┌──────────────┐\n",
      "0: ───H──────────────────────────────────────────\n",
      "\n",
      "1: ───H───@────@─────────────────────────────────\n",
      "          │    │\n",
      "2: ───────X────┼M('result_2')────────────────────\n",
      "               │\n",
      "3: ────────────X─────────────────M('result_3')───\n",
      "              └──────────────┘\n"
     ]
    }
   ],
   "source": [
    "#Measure the last n qubits\n",
    "for i in range(n,2*n):\n",
    "    sc.append(measure(qbs[i], key='result_%d'%(i)))\n",
    "    \n",
    "print(\"Circuit:\")\n",
    "print(sc)"
   ]
  },
  {
   "cell_type": "code",
   "execution_count": 7,
   "metadata": {},
   "outputs": [
    {
     "name": "stdout",
     "output_type": "stream",
     "text": [
      "Circuit:\n",
      "              ┌──────────────────────────┐\n",
      "0: ───H───H────M('result_0')─────────────────────────────────────────────────\n",
      "\n",
      "1: ───H───@────@─────────────────────────────H───────────────M('result_1')───\n",
      "          │    │\n",
      "2: ───────X────┼────────────M('result_2')────────────────────────────────────\n",
      "               │\n",
      "3: ────────────X─────────────────────────────M('result_3')───────────────────\n",
      "              └──────────────────────────┘\n"
     ]
    }
   ],
   "source": [
    "#Apply the H and measurement operator to the first n qubits\n",
    "for i in range(n):\n",
    "    sc.append([H(qbs[i]),measure(qbs[i], key='result_%d'%(i))])\n",
    "    \n",
    "print(\"Circuit:\")\n",
    "print(sc)"
   ]
  },
  {
   "cell_type": "code",
   "execution_count": 10,
   "metadata": {},
   "outputs": [
    {
     "name": "stdout",
     "output_type": "stream",
     "text": [
      "Results:\n",
      "RUN1: 00\n",
      "RUN2: 01\n"
     ]
    }
   ],
   "source": [
    "#Results: |a0a1> AND |res0res1> = 0\n",
    "#Run the simulator twice, to solve for a0 and a1.\n",
    "simulator = cirq.Simulator()\n",
    "result = simulator.run(sc,repetitions=2)\n",
    "print('Results:')\n",
    "print('RUN1: %d%d'%(result.data['result_0'][0],result.data['result_1'][0]))\n",
    "print('RUN2: %d%d'%(result.data['result_0'][1],result.data['result_1'][1]))"
   ]
  },
  {
   "cell_type": "code",
   "execution_count": 9,
   "metadata": {},
   "outputs": [],
   "source": [
    "#From the results above, a1 = 0. Since a0 = 0 is the trivial solution, we have a0 = 1, and a = |10> = |2>."
   ]
  },
  {
   "cell_type": "markdown",
   "metadata": {},
   "source": [
    "<!--bibtex\n",
    "\n",
    "@book{MikeIke,\n",
    "    title = {Quantum Computation and Quantum Information},\n",
    "    author = {Nielsen, Michael A. and Chuang, Issac L},\n",
    "    year = {2010},\n",
    "    publisher = {Cambridge University Press}\n",
    "}\n",
    "\n",
    "@article{Simon,\n",
    "    author = {Simon, Daniel R.},\n",
    "    title = {On the Power of Quantum Computation},\n",
    "    journal = {SIAM Journal on Computing},\n",
    "    volume = {26},\n",
    "    number = {5},\n",
    "    pages = {1474-1483},\n",
    "    year = {1997},\n",
    "    DOI = {10.1137/S0097539796298637},\n",
    "    rul = {https://doi.org/10.1137/S0097539796298637},\n",
    "    eprint = {https://doi.org/10.1137/S0097539796298637}\n",
    "\n",
    "}\n",
    "\n",
    "-->"
   ]
  },
  {
   "cell_type": "code",
   "execution_count": null,
   "metadata": {},
   "outputs": [],
   "source": []
  },
  {
   "cell_type": "markdown",
   "metadata": {},
   "source": [
    "# References\n",
    "\n",
    "<a name=\"cite-Simon\"/><sup>[^](#ref-1) </sup>Simon, Daniel R.. 1997. _On the Power of Quantum Computation_.\n",
    "\n"
   ]
  }
 ],
 "metadata": {
  "kernelspec": {
   "display_name": "Python 3",
   "language": "python",
   "name": "python3"
  },
  "language_info": {
   "codemirror_mode": {
    "name": "ipython",
    "version": 3
   },
   "file_extension": ".py",
   "mimetype": "text/x-python",
   "name": "python",
   "nbconvert_exporter": "python",
   "pygments_lexer": "ipython3",
   "version": "3.8.5"
  }
 },
 "nbformat": 4,
 "nbformat_minor": 4
}
