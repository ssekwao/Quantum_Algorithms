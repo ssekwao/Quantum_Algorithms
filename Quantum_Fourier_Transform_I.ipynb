{
 "cells": [
  {
   "cell_type": "markdown",
   "metadata": {},
   "source": [
    "# Quantum Fourier Transform I\n",
    "\n",
    "Implementation of $QFT$ and $QFT^+$ gates using __[Cirq](https://quantumai.google/cirq)__. The implementation is then tested by applying the operator $QFTQFT^{+}$ on the state $\\left| \\psi \\right\\rangle = \\left| 100...011 \\right\\rangle$.\n",
    "\n",
    "The $n$-qubit ($n > 2$) $QFT$ gate implemented in this example is given by <a name=\"ref-1\"/>[(Nielsen and Chuang, 2010)](#cite-MikeIke)\n",
    "\n",
    "\\begin{equation}\n",
    "QFT = \\frac{1}{\\sqrt{2^n}}\\sum_{j=0}^{2^n-1}\\sum_{k=0}^{2^n-1}e^{2\\pi ikj/{2^n}}\\left| k \\right\\rangle \\left\\langle j \\right|\n",
    "\\end{equation}\n"
   ]
  },
  {
   "cell_type": "code",
   "execution_count": 1,
   "metadata": {},
   "outputs": [],
   "source": [
    "#QFT test. Testing QFT*QFTD|state> = |state>\n",
    "#state = |100...011>"
   ]
  },
  {
   "cell_type": "code",
   "execution_count": 2,
   "metadata": {},
   "outputs": [],
   "source": [
    "import numpy as np\n",
    "import cirq\n",
    "import statistics\n",
    "from statistics import mode\n",
    "from cirq import H, X, S,measure"
   ]
  },
  {
   "cell_type": "code",
   "execution_count": 3,
   "metadata": {},
   "outputs": [],
   "source": [
    "#QFT gate\n",
    "#Inputs: quantum circuit and it's qubits\n",
    "#Output: quantum circuit with QFT applied to first N qubits\n",
    "def QFT(QC,QBTS,N):\n",
    "    \n",
    "    #Apply S gates with positive exponents\n",
    "    for i in range(N):\n",
    "        QC.append(H(QBTS[i])) #Add H gate\n",
    "        M = S\n",
    "        j = i + 1\n",
    "        while j < N:\n",
    "            qc.append(M(QBTS[i]).controlled_by(QBTS[j]))\n",
    "            M = M **0.5\n",
    "            j += 1\n",
    "    \n",
    "    #Swap the qubits\n",
    "    ns = int(N/2)\n",
    "    for i in range(ns):\n",
    "        QC.append(cirq.SWAP(QBTS[i],QBTS[N-1-i]))"
   ]
  },
  {
   "cell_type": "code",
   "execution_count": 4,
   "metadata": {},
   "outputs": [],
   "source": [
    "#QFTD gate\n",
    "#Inputs: quantum circuit and it's qubits\n",
    "#Output: quantum circuit with QFTD applied to first N qubits\n",
    "def QFTD(QC,QBTS,N):\n",
    "    \n",
    "    #Apply S gates with positive exponents\n",
    "    for i in range(N):\n",
    "        QC.append(H(QBTS[i])) #Add H gate\n",
    "        M = S**(-1.0)\n",
    "        j = i + 1\n",
    "        while j < N:\n",
    "            qc.append(M(QBTS[i]).controlled_by(QBTS[j]))\n",
    "            M = M **0.5\n",
    "            j += 1\n",
    "    \n",
    "    #Swap the qubits\n",
    "    ns = int(N/2)\n",
    "    for i in range(ns):\n",
    "        QC.append(cirq.SWAP(QBTS[i],QBTS[N-1-i]))"
   ]
  },
  {
   "cell_type": "code",
   "execution_count": 5,
   "metadata": {},
   "outputs": [],
   "source": [
    "N = 7 #Number of qubits\n",
    "\n",
    "#Prepare |100...011>\n",
    "qbs = cirq.LineQubit.range(N)\n",
    "qc = cirq.Circuit()\n",
    "qc.append(X(qbs[0]))\n",
    "qc.append(X(qbs[N-2]))\n",
    "qc.append(X(qbs[N-1]))\n",
    "        \n",
    "#print(\"Circuit:\")\n",
    "#print(qc)"
   ]
  },
  {
   "cell_type": "code",
   "execution_count": 6,
   "metadata": {},
   "outputs": [
    {
     "name": "stdout",
     "output_type": "stream",
     "text": [
      "Circuit:\n",
      "                     ┌─────┐   ┌────────────┐   ┌──────────────┐   ┌────────────────────┐   ┌──────────────────────┐   ┌────────────────────┐   ┌──────────────┐   ┌────────────┐   ┌─────┐                          ┌──┐   ┌────────┐   ┌──────────┐   ┌───────────────┐   ┌─────────────────┐   ┌───────────────┐   ┌──────────┐   ┌────────┐   ┌──┐\n",
      "0: ───X───H───S───────T─────────Z────────────────Z──────────────────Z────────────────────────Z───────────────────────────────────────────────────────────────────────────────────────────────────────────×───H───S────T──────Z────────────Z──────────────Z───────────────────Z───────────────────────────────────────────────────────────────────────────────────×───\n",
      "              │       │         │                │                  │                        │                                                                                                           │       │    │      │            │              │                   │                                                                                   │\n",
      "1: ───────────@^-1────┼───H─────┼───────S────────┼────────T─────────┼───────Z────────────────┼───────Z──────────────────Z────────────────────────────────────────────────────────────────────────────×───┼───────@────┼H─────┼──────S─────┼───────T──────┼──────Z────────────┼──────Z──────────────Z─────────────────────────────────────────────────────────×───┼───\n",
      "                      │         │       │        │        │         │       │                │       │                  │                                                                            │   │            │      │      │     │       │      │      │            │      │              │                                                         │   │\n",
      "2: ───────────────────@^-1──────┼───────@^-1─────┼────────┼───H─────┼───────┼───────S────────┼───────┼────────T─────────┼───────Z────────────────Z────────────────────────────────────────────×──────┼───┼────────────@──────┼──────@─────┼───────┼H─────┼──────┼──────S─────┼──────┼───────T──────┼──────Z────────────Z─────────────────────────────────×───┼───┼───\n",
      "                                │                │        │         │       │       │        │       │        │         │       │                │                                            │      │   │                   │            │       │      │      │      │     │      │       │      │      │            │                                 │   │   │\n",
      "3: ─────────────────────────────@^(-1/8)─────────┼────────@^-1──────┼───────┼───────@^-1─────┼───────┼────────┼───H─────┼───────┼───────S────────┼────────T─────────Z─────────────────────────┼──────┼───┼───────────────────@^(1/8)──────┼───────@──────┼──────┼──────@─────┼──────┼───────┼H─────┼──────┼──────S─────┼───────T──────Z──────────────────┼───┼───┼───\n",
      "                                                 │                  │       │                │       │        │         │       │       │        │        │         │                         │      │   │                                │              │      │            │      │       │      │      │      │     │       │      │                  │   │   │\n",
      "4: ──────────────────────────────────────────────@^(-1/16)──────────┼───────@^(-1/8)─────────┼───────┼────────@^-1──────┼───────┼───────@^-1─────┼────────┼───H─────┼───────S────────T────────×──────┼───┼────────────────────────────────@^(1/16)───────┼──────@^(1/8)──────┼──────┼───────@──────┼──────┼──────@─────┼───────┼H─────┼──────S─────T─────×───┼───┼───\n",
      "                                                                    │                        │       │                  │       │                │        │         │       │        │               │   │                                               │                   │      │              │      │            │       │      │      │     │         │   │\n",
      "5: ───X─────────────────────────────────────────────────────────────@^-0.031─────────────────┼───────@^(-1/16)──────────┼───────@^(-1/8)─────────┼────────@^-1──────┼───────@^-1─────┼───H────S──────×───┼───────────────────────────────────────────────@^0.031─────────────┼──────@^(1/16)───────┼──────@^(1/8)──────┼───────@──────┼──────@─────┼H────S───×───┼───\n",
      "                                                                                             │                          │                        │                  │                │        │          │                                                                   │                     │                   │              │            │     │       │\n",
      "6: ───X──────────────────────────────────────────────────────────────────────────────────────@^-0.016───────────────────@^-0.031─────────────────@^(-1/16)──────────@^(-1/8)─────────@^-1─────@^-1───H───×───────────────────────────────────────────────────────────────────@^0.016───────────────@^0.031─────────────@^(1/16)───────@^(1/8)──────@─────@───H───×───\n",
      "                     └─────┘   └────────────┘   └──────────────┘   └────────────────────┘   └──────────────────────┘   └────────────────────┘   └──────────────┘   └────────────┘   └─────┘                          └──┘   └────────┘   └──────────┘   └───────────────┘   └─────────────────┘   └───────────────┘   └──────────┘   └────────┘   └──┘\n"
     ]
    }
   ],
   "source": [
    "#Apply QFTD then QFT\n",
    "QFTD(qc,qbs,N)\n",
    "QFT(qc,qbs,N)\n",
    "\n",
    "print(\"Circuit:\")\n",
    "print(qc)"
   ]
  },
  {
   "cell_type": "code",
   "execution_count": 7,
   "metadata": {},
   "outputs": [
    {
     "name": "stdout",
     "output_type": "stream",
     "text": [
      "[ 0.000000e+00+0.e+00j  0.000000e+00+0.e+00j  0.000000e+00+0.e+00j\n",
      "  0.000000e+00+1.e-08j  0.000000e+00+0.e+00j  0.000000e+00+0.e+00j\n",
      "  0.000000e+00+0.e+00j -1.000000e-08+1.e-08j  0.000000e+00+0.e+00j\n",
      "  0.000000e+00+0.e+00j  0.000000e+00+0.e+00j  0.000000e+00+1.e-08j\n",
      "  0.000000e+00+0.e+00j  0.000000e+00+0.e+00j  0.000000e+00+0.e+00j\n",
      "  1.000000e-08-1.e-08j  0.000000e+00+0.e+00j  0.000000e+00+0.e+00j\n",
      "  0.000000e+00+0.e+00j  1.000000e-08-2.e-08j  0.000000e+00+0.e+00j\n",
      "  0.000000e+00+0.e+00j  0.000000e+00+0.e+00j -0.000000e+00-0.e+00j\n",
      "  0.000000e+00+0.e+00j  0.000000e+00+0.e+00j  0.000000e+00+0.e+00j\n",
      "  1.000000e-08-1.e-08j  0.000000e+00+0.e+00j  0.000000e+00+0.e+00j\n",
      "  0.000000e+00+0.e+00j  0.000000e+00+0.e+00j  0.000000e+00+0.e+00j\n",
      "  0.000000e+00+0.e+00j  0.000000e+00+0.e+00j  6.000000e-08-1.e-08j\n",
      "  0.000000e+00+0.e+00j  0.000000e+00+0.e+00j  0.000000e+00+0.e+00j\n",
      "  0.000000e+00-1.e-08j  0.000000e+00+0.e+00j  0.000000e+00+0.e+00j\n",
      "  0.000000e+00+0.e+00j  1.000000e-08-1.e-08j  0.000000e+00+0.e+00j\n",
      "  0.000000e+00+0.e+00j  0.000000e+00+0.e+00j -0.000000e+00+1.e-08j\n",
      "  0.000000e+00+0.e+00j  0.000000e+00+0.e+00j  0.000000e+00+0.e+00j\n",
      "  2.000000e-08-1.e-08j  0.000000e+00+0.e+00j  0.000000e+00+0.e+00j\n",
      "  0.000000e+00+0.e+00j  1.000000e-08+0.e+00j  0.000000e+00+0.e+00j\n",
      "  0.000000e+00+0.e+00j  0.000000e+00+0.e+00j -1.000000e-08-1.e-08j\n",
      "  0.000000e+00+0.e+00j  0.000000e+00+0.e+00j  0.000000e+00+0.e+00j\n",
      " -0.000000e+00-0.e+00j -0.000000e+00+0.e+00j -0.000000e+00+0.e+00j\n",
      " -0.000000e+00+0.e+00j  9.999997e-01-3.e-08j -0.000000e+00+0.e+00j\n",
      " -0.000000e+00+0.e+00j -0.000000e+00+0.e+00j -0.000000e+00+1.e-08j\n",
      " -0.000000e+00+0.e+00j -0.000000e+00+0.e+00j -0.000000e+00+0.e+00j\n",
      "  0.000000e+00+2.e-08j -0.000000e+00+0.e+00j -0.000000e+00+0.e+00j\n",
      " -0.000000e+00+0.e+00j -0.000000e+00-0.e+00j -0.000000e+00+0.e+00j\n",
      " -0.000000e+00+0.e+00j -0.000000e+00+0.e+00j  2.000000e-08+1.e-08j\n",
      " -0.000000e+00+0.e+00j -0.000000e+00+0.e+00j -0.000000e+00+0.e+00j\n",
      " -1.000000e-08-0.e+00j -0.000000e+00+0.e+00j -0.000000e+00+0.e+00j\n",
      " -0.000000e+00+0.e+00j  0.000000e+00+2.e-08j -0.000000e+00+0.e+00j\n",
      " -0.000000e+00+0.e+00j -0.000000e+00+0.e+00j  1.000000e-08+1.e-08j\n",
      " -0.000000e+00+0.e+00j -0.000000e+00+0.e+00j -0.000000e+00+0.e+00j\n",
      "  6.000000e-08+2.e-08j -0.000000e+00+0.e+00j -0.000000e+00+0.e+00j\n",
      " -0.000000e+00+0.e+00j -0.000000e+00-0.e+00j -0.000000e+00+0.e+00j\n",
      " -0.000000e+00+0.e+00j -0.000000e+00+0.e+00j  1.000000e-08+1.e-08j\n",
      " -0.000000e+00+0.e+00j -0.000000e+00+0.e+00j -0.000000e+00+0.e+00j\n",
      " -1.000000e-08-1.e-08j -0.000000e+00+0.e+00j -0.000000e+00+0.e+00j\n",
      " -0.000000e+00+0.e+00j  0.000000e+00-0.e+00j -0.000000e+00+0.e+00j\n",
      " -0.000000e+00+0.e+00j -0.000000e+00+0.e+00j  1.000000e-08+0.e+00j\n",
      " -0.000000e+00+0.e+00j -0.000000e+00+0.e+00j -0.000000e+00+0.e+00j\n",
      " -1.000000e-08+1.e-08j -0.000000e+00+0.e+00j -0.000000e+00+0.e+00j\n",
      " -0.000000e+00+0.e+00j -0.000000e+00+0.e+00j]\n"
     ]
    }
   ],
   "source": [
    "#Final state vector before measurement\n",
    "simulator = cirq.Simulator()\n",
    "Result = simulator.simulate(qc, qubit_order=[qbs[i] for i in range(N)])\n",
    "State1 = np.around(Result.final_state_vector, 8)\n",
    "print(State1)"
   ]
  },
  {
   "cell_type": "code",
   "execution_count": 8,
   "metadata": {},
   "outputs": [],
   "source": [
    "#Add measurements...\n",
    "for i in range(N):\n",
    "    qc.append(measure(qbs[i], key = 'Results_%d'%(i)))"
   ]
  },
  {
   "cell_type": "code",
   "execution_count": 9,
   "metadata": {},
   "outputs": [
    {
     "name": "stdout",
     "output_type": "stream",
     "text": [
      "Results_0=11111111111111111111111111111111111111111111111111\n",
      "Results_1=00000000000000000000000000000000000000000000000000\n",
      "Results_2=00000000000000000000000000000000000000000000000000\n",
      "Results_3=00000000000000000000000000000000000000000000000000\n",
      "Results_4=00000000000000000000000000000000000000000000000000\n",
      "Results_5=11111111111111111111111111111111111111111111111111\n",
      "Results_6=11111111111111111111111111111111111111111111111111\n"
     ]
    }
   ],
   "source": [
    "#Run simulator...\n",
    "#Final state should be |100..011>\n",
    "Results1 = simulator.run(qc,repetitions=50)\n",
    "print(Results1)"
   ]
  },
  {
   "cell_type": "markdown",
   "metadata": {},
   "source": [
    "<!--bibtex\n",
    "\n",
    "@book{MikeIke,\n",
    "    title = {Quantum Computation and Quantum Information},\n",
    "    author = {Nielsen, Michael A. and Chuang, Issac L},\n",
    "    year = {2010},\n",
    "    publisher = {Cambridge University Press}\n",
    "}\n",
    "\n",
    "-->"
   ]
  },
  {
   "cell_type": "code",
   "execution_count": null,
   "metadata": {},
   "outputs": [],
   "source": []
  },
  {
   "cell_type": "markdown",
   "metadata": {},
   "source": [
    "# References\n",
    "\n",
    "<a name=\"cite-MikeIke\"/><sup>[^](#ref-1) </sup>Nielsen, Michael A. and Chuang, Issac L. 2010. _Quantum Computation and Quantum Information_.\n",
    "\n"
   ]
  }
 ],
 "metadata": {
  "kernelspec": {
   "display_name": "Python 3",
   "language": "python",
   "name": "python3"
  },
  "language_info": {
   "codemirror_mode": {
    "name": "ipython",
    "version": 3
   },
   "file_extension": ".py",
   "mimetype": "text/x-python",
   "name": "python",
   "nbconvert_exporter": "python",
   "pygments_lexer": "ipython3",
   "version": "3.8.5"
  }
 },
 "nbformat": 4,
 "nbformat_minor": 4
}
