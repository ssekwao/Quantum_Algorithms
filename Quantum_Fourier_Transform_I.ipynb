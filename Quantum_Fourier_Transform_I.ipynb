{
 "cells": [
  {
   "cell_type": "markdown",
   "metadata": {},
   "source": [
    "# Quantum Fourier Transform I\n",
    "\n",
    "Implementation of $QFT$ and $QFT^+$ gates using __[Cirq](https://quantumai.google/cirq)__. The implementation is then tested by applying the operator $QFTQFT^{+}$ on the state $\\left| \\psi \\right\\rangle = \\left| 100 \\right\\rangle$.\n",
    "\n",
    "The $n$-cubit $QFT$ gate implemented in this example is given by <a name=\"ref-1\"/>[(Nielsen and Chuang, 2010)](#cite-MikeIke)\n",
    "\n",
    "\\begin{equation}\n",
    "QFT = \\frac{1}{\\sqrt{2^n}}\\sum_{j=0}^{2^n-1}\\sum_{k=0}^{2^n-1}e^{2\\pi ikj/{2^n}}\\left| k \\right\\rangle \\left\\langle j \\right|\n",
    "\\end{equation}\n"
   ]
  },
  {
   "cell_type": "code",
   "execution_count": 10,
   "metadata": {},
   "outputs": [],
   "source": [
    "#QFT test. Testing QFTD*QFT|state> = |state>\n",
    "#state = |100>"
   ]
  },
  {
   "cell_type": "code",
   "execution_count": 2,
   "metadata": {},
   "outputs": [],
   "source": [
    "import random\n",
    "import numpy as np\n",
    "import cirq\n",
    "import statistics\n",
    "from statistics import mode\n",
    "from cirq import H, X, CNOT, S,measure"
   ]
  },
  {
   "cell_type": "code",
   "execution_count": 3,
   "metadata": {},
   "outputs": [],
   "source": [
    "#QFT gate\n",
    "#Inputs: quantum circuit and it's qubits\n",
    "#Output: quantum circuit with QFT applied to first nq qubits\n",
    "def QFT(qc,qbts,nq):\n",
    "    \n",
    "    if nq == 1:\n",
    "       n = len(qbts) #Number of qubits\n",
    "    else:\n",
    "       n = nq #Apply to first nq qubits\n",
    "    \n",
    "    #Apply S gates with positive exponents\n",
    "    for i in range(n):\n",
    "        qc.append(H(qbts[i])) #Add H gate\n",
    "        for j in range(i+1,n):\n",
    "            po = j-i-1\n",
    "            exp = 1.0/(2**po)\n",
    "            SS = S**exp\n",
    "            qc.append(SS(qbts[i]).controlled_by(qbts[j]))\n",
    "    \n",
    "    #Swap the qubits\n",
    "    for i in range(int(n/2)):\n",
    "        qc.append(cirq.SWAP(qbts[i],qbts[n-1-i]))\n",
    "        \n",
    "    return qc"
   ]
  },
  {
   "cell_type": "code",
   "execution_count": 4,
   "metadata": {},
   "outputs": [],
   "source": [
    "#QFT+ gate\n",
    "#Inputs: quantum circuit and it's qubits\n",
    "#Output: quantum circuit with QFT+ applied\n",
    "def QFTD(qc,qbts,nq):\n",
    "    if nq == 1:\n",
    "        n = len(qbts) #Number of qubits\n",
    "    else:\n",
    "        n = nq #Apply to first nq qubits\n",
    "        \n",
    "    #Apply S gates with negative exponents\n",
    "    for i in range(n):\n",
    "        qc.append(H(qbts[i])) #Add H gate\n",
    "        for j in range(i+1,n):\n",
    "            po = j-i-1\n",
    "            exp = -1.0/(2**po)\n",
    "            SS = S**exp\n",
    "            qc.append(SS(qbts[i]).controlled_by(qbts[j]))\n",
    "            \n",
    "            \n",
    "    #Swap the qubits\n",
    "    for i in range(int(n/2)):\n",
    "        qc.append(cirq.SWAP(qbts[i],qbts[n-1-i]))\n",
    "        \n",
    "    return qc"
   ]
  },
  {
   "cell_type": "code",
   "execution_count": 5,
   "metadata": {},
   "outputs": [],
   "source": [
    "N = 3 #Number of qubits\n",
    "\n",
    "#Prepare |100>\n",
    "state = [1,0,0] #Initial state\n",
    "qbs = cirq.LineQubit.range(N)\n",
    "qc = cirq.Circuit()\n",
    "qc.append(X(qbs[0]))\n",
    "        \n",
    "#print(\"Circuit:\")\n",
    "#print(qc)"
   ]
  },
  {
   "cell_type": "code",
   "execution_count": 6,
   "metadata": {},
   "outputs": [
    {
     "name": "stdout",
     "output_type": "stream",
     "text": [
      "Circuit:\n",
      "                  ┌──┐\n",
      "0: ───X───H───S────T─────────────×───\n",
      "              │    │             │\n",
      "1: ───────────@────┼H────S───────┼───\n",
      "                   │     │       │\n",
      "2: ────────────────@─────@───H───×───\n",
      "                  └──┘\n"
     ]
    }
   ],
   "source": [
    "#Apply QFT \n",
    "qc = QFT(qc,qbs,N)\n",
    "\n",
    "print(\"Circuit:\")\n",
    "print(qc)"
   ]
  },
  {
   "cell_type": "code",
   "execution_count": 7,
   "metadata": {},
   "outputs": [
    {
     "name": "stdout",
     "output_type": "stream",
     "text": [
      "[ 0.35355335+0.j -0.35355335+0.j  0.35355335+0.j -0.35355335+0.j\n",
      "  0.35355335+0.j -0.35355335+0.j  0.35355335+0.j -0.35355335+0.j]\n"
     ]
    }
   ],
   "source": [
    "#Final state vector before measurement\n",
    "simulator = cirq.Simulator()\n",
    "Result = simulator.simulate(qc, qubit_order=[qbs[0], qbs[1],qbs[2]])\n",
    "State1 = np.around(Result.final_state_vector, 8)\n",
    "print(State1)"
   ]
  },
  {
   "cell_type": "code",
   "execution_count": 8,
   "metadata": {},
   "outputs": [],
   "source": [
    "#Apply QFT+ to state 1 above\n",
    "Ns = 2**N\n",
    "Final_State = np.zeros(Ns,dtype=complex) #Final state\n",
    "\n",
    "count = 0\n",
    "for i in range(0,2):\n",
    "    for j in range(0,2):\n",
    "        for k in range(0,2):\n",
    "            \n",
    "            #Quantum circuit\n",
    "            qbs1 = cirq.LineQubit.range(N)\n",
    "            qc1 = cirq.Circuit()\n",
    "            if i == 1:\n",
    "                qc1.append(X(qbs1[0]))\n",
    "                \n",
    "            if j == 1:\n",
    "                qc1.append(X(qbs1[1]))\n",
    "                \n",
    "            if k == 1:\n",
    "                qc1.append(X(qbs1[2]))\n",
    "                \n",
    "            #Apply QFT+ \n",
    "            qc1 = QFTD(qc1,qbs1,N)\n",
    "            \n",
    "            #Get state vector before measurement\n",
    "            Result = simulator.simulate(qc1, qubit_order=[qbs1[0], qbs1[1],qbs1[2]])\n",
    "            State = np.around(Result.final_state_vector, 8)\n",
    "            \n",
    "            #Add state to final state with appropriate multiplier\n",
    "            Final_State += State1[count]*State\n",
    "            \n",
    "            count+=1"
   ]
  },
  {
   "cell_type": "code",
   "execution_count": 9,
   "metadata": {},
   "outputs": [
    {
     "name": "stdout",
     "output_type": "stream",
     "text": [
      "[0.        +0.j 0.        +0.j 0.        +0.j 0.        +0.j\n",
      " 0.99999982+0.j 0.        +0.j 0.        +0.j 0.        +0.j]\n"
     ]
    }
   ],
   "source": [
    "#Final state should be |100>\n",
    "print(Final_State)"
   ]
  },
  {
   "cell_type": "markdown",
   "metadata": {},
   "source": [
    "<!--bibtex\n",
    "\n",
    "@book{MikeIke,\n",
    "    title = {Quantum Computation and Quantum Information},\n",
    "    author = {Nielsen, Michael A. and Chuang, Issac L},\n",
    "    year = {2010},\n",
    "    publisher = {Cambridge University Press}\n",
    "}\n",
    "\n",
    "-->"
   ]
  },
  {
   "cell_type": "code",
   "execution_count": null,
   "metadata": {},
   "outputs": [],
   "source": []
  },
  {
   "cell_type": "markdown",
   "metadata": {},
   "source": [
    "# References\n",
    "\n",
    "<a name=\"cite-MikeIke\"/><sup>[^](#ref-1) </sup>Nielsen, Michael A. and Chuang, Issac L. 2010. _Quantum Computation and Quantum Information_.\n",
    "\n"
   ]
  }
 ],
 "metadata": {
  "kernelspec": {
   "display_name": "Python 3",
   "language": "python",
   "name": "python3"
  },
  "language_info": {
   "codemirror_mode": {
    "name": "ipython",
    "version": 3
   },
   "file_extension": ".py",
   "mimetype": "text/x-python",
   "name": "python",
   "nbconvert_exporter": "python",
   "pygments_lexer": "ipython3",
   "version": "3.8.5"
  }
 },
 "nbformat": 4,
 "nbformat_minor": 4
}
